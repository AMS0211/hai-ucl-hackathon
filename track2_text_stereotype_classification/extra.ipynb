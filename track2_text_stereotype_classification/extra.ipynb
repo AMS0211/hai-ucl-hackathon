{
 "cells": [
  {
   "cell_type": "markdown",
   "id": "37e7449a",
   "metadata": {},
   "source": [
    "## SAGEDbias Scraping Tutorial\n",
    "Let's walk through this SAGEDbias tutorial to understand how to **scrape relevant sentences** using the Scraper in the SAGEDbias library. The scraped materials can help you **create a dataset** to train and detect stereotypes. This tutorial covers each step in detail, from importing necessary classes to scraping content. You will first learn to initiate keywords manually and locate and scrape from Wikipedia pages. Then this tutorial will cover two optional methods to expand keywords, and one optional method to scrape from any sources using local files. \n",
    "\n",
    "For more information, check the paper\n",
    "[SAGED: A Holistic Bias-Benchmarking Pipeline for Language Models with Customisable Fairness Calibration](https://arxiv.org/abs/2409.11149)"
   ]
  },
  {
   "cell_type": "markdown",
   "id": "3a196ef9",
   "metadata": {},
   "source": [
    "### Step 1: Install the SAGEDbias Library and Import\n",
    "To start, you'll need to install the SAGEDbias library. This can be done using `pip`. If you haven't installed the library yet, uncomment the following line in your code:"
   ]
  },
  {
   "cell_type": "code",
   "execution_count": 1,
   "id": "ef7f64f1",
   "metadata": {},
   "outputs": [
    {
     "name": "stdout",
     "output_type": "stream",
     "text": [
      "Requirement already satisfied: SAGEDbias==0.0.7 in c:\\users\\progu\\anaconda3\\envs\\holistst\\lib\\site-packages (0.0.7)\n",
      "Requirement already satisfied: bs4<0.0.3,>=0.0.2 in c:\\users\\progu\\anaconda3\\envs\\holistst\\lib\\site-packages (from SAGEDbias==0.0.7) (0.0.2)\n",
      "Requirement already satisfied: nltk<4.0.0,>=3.8.1 in c:\\users\\progu\\anaconda3\\envs\\holistst\\lib\\site-packages (from SAGEDbias==0.0.7) (3.8.1)\n",
      "Requirement already satisfied: numpy<2.0.0,>=1.24.3 in c:\\users\\progu\\anaconda3\\envs\\holistst\\lib\\site-packages (from SAGEDbias==0.0.7) (1.26.4)\n",
      "Requirement already satisfied: pandas<2.0.0,>=1.5.3 in c:\\users\\progu\\anaconda3\\envs\\holistst\\lib\\site-packages (from SAGEDbias==0.0.7) (1.5.3)\n",
      "Requirement already satisfied: plotly<6.0.0,>=5.23.0 in c:\\users\\progu\\anaconda3\\envs\\holistst\\lib\\site-packages (from SAGEDbias==0.0.7) (5.23.0)\n",
      "Requirement already satisfied: requests<3.0.0,>=2.32.3 in c:\\users\\progu\\anaconda3\\envs\\holistst\\lib\\site-packages (from SAGEDbias==0.0.7) (2.32.3)\n",
      "Requirement already satisfied: scikit-learn<2.0,>=1.0 in c:\\users\\progu\\anaconda3\\envs\\holistst\\lib\\site-packages (from SAGEDbias==0.0.7) (1.4.2)\n",
      "Requirement already satisfied: scipy<2.0.0,>=1.7.3 in c:\\users\\progu\\anaconda3\\envs\\holistst\\lib\\site-packages (from SAGEDbias==0.0.7) (1.14.1)\n",
      "Requirement already satisfied: sentence-transformers<3.0.0,>=2.1.0 in c:\\users\\progu\\anaconda3\\envs\\holistst\\lib\\site-packages (from SAGEDbias==0.0.7) (2.7.0)\n",
      "Requirement already satisfied: spacy<4.0.0,>=3.2.1 in c:\\users\\progu\\anaconda3\\envs\\holistst\\lib\\site-packages (from SAGEDbias==0.0.7) (3.7.5)\n",
      "Requirement already satisfied: tqdm<5.0.0,>=4.66.4 in c:\\users\\progu\\anaconda3\\envs\\holistst\\lib\\site-packages (from SAGEDbias==0.0.7) (4.66.4)\n",
      "Requirement already satisfied: transformers<5.0.0,>=4.11.3 in c:\\users\\progu\\anaconda3\\envs\\holistst\\lib\\site-packages (from SAGEDbias==0.0.7) (4.37.2)\n",
      "Requirement already satisfied: wikipedia-api<0.7.0,>=0.6.0 in c:\\users\\progu\\anaconda3\\envs\\holistst\\lib\\site-packages (from SAGEDbias==0.0.7) (0.6.0)\n",
      "Requirement already satisfied: beautifulsoup4 in c:\\users\\progu\\anaconda3\\envs\\holistst\\lib\\site-packages (from bs4<0.0.3,>=0.0.2->SAGEDbias==0.0.7) (4.12.3)\n",
      "Requirement already satisfied: click in c:\\users\\progu\\anaconda3\\envs\\holistst\\lib\\site-packages (from nltk<4.0.0,>=3.8.1->SAGEDbias==0.0.7) (8.1.7)\n",
      "Requirement already satisfied: joblib in c:\\users\\progu\\anaconda3\\envs\\holistst\\lib\\site-packages (from nltk<4.0.0,>=3.8.1->SAGEDbias==0.0.7) (1.4.2)\n",
      "Requirement already satisfied: regex>=2021.8.3 in c:\\users\\progu\\anaconda3\\envs\\holistst\\lib\\site-packages (from nltk<4.0.0,>=3.8.1->SAGEDbias==0.0.7) (2024.7.24)\n",
      "Requirement already satisfied: python-dateutil>=2.8.1 in c:\\users\\progu\\anaconda3\\envs\\holistst\\lib\\site-packages (from pandas<2.0.0,>=1.5.3->SAGEDbias==0.0.7) (2.9.0.post0)\n",
      "Requirement already satisfied: pytz>=2020.1 in c:\\users\\progu\\anaconda3\\envs\\holistst\\lib\\site-packages (from pandas<2.0.0,>=1.5.3->SAGEDbias==0.0.7) (2024.1)\n",
      "Requirement already satisfied: tenacity>=6.2.0 in c:\\users\\progu\\anaconda3\\envs\\holistst\\lib\\site-packages (from plotly<6.0.0,>=5.23.0->SAGEDbias==0.0.7) (9.0.0)\n",
      "Requirement already satisfied: packaging in c:\\users\\progu\\anaconda3\\envs\\holistst\\lib\\site-packages (from plotly<6.0.0,>=5.23.0->SAGEDbias==0.0.7) (24.1)\n",
      "Requirement already satisfied: charset-normalizer<4,>=2 in c:\\users\\progu\\anaconda3\\envs\\holistst\\lib\\site-packages (from requests<3.0.0,>=2.32.3->SAGEDbias==0.0.7) (3.3.2)\n",
      "Requirement already satisfied: idna<4,>=2.5 in c:\\users\\progu\\anaconda3\\envs\\holistst\\lib\\site-packages (from requests<3.0.0,>=2.32.3->SAGEDbias==0.0.7) (3.7)\n",
      "Requirement already satisfied: urllib3<3,>=1.21.1 in c:\\users\\progu\\anaconda3\\envs\\holistst\\lib\\site-packages (from requests<3.0.0,>=2.32.3->SAGEDbias==0.0.7) (2.2.2)\n",
      "Requirement already satisfied: certifi>=2017.4.17 in c:\\users\\progu\\anaconda3\\envs\\holistst\\lib\\site-packages (from requests<3.0.0,>=2.32.3->SAGEDbias==0.0.7) (2024.7.4)\n",
      "Requirement already satisfied: threadpoolctl>=2.0.0 in c:\\users\\progu\\anaconda3\\envs\\holistst\\lib\\site-packages (from scikit-learn<2.0,>=1.0->SAGEDbias==0.0.7) (3.5.0)\n",
      "Requirement already satisfied: torch>=1.11.0 in c:\\users\\progu\\anaconda3\\envs\\holistst\\lib\\site-packages (from sentence-transformers<3.0.0,>=2.1.0->SAGEDbias==0.0.7) (2.3.0+cu118)\n",
      "Requirement already satisfied: huggingface-hub>=0.15.1 in c:\\users\\progu\\anaconda3\\envs\\holistst\\lib\\site-packages (from sentence-transformers<3.0.0,>=2.1.0->SAGEDbias==0.0.7) (0.23.0)\n",
      "Requirement already satisfied: Pillow in c:\\users\\progu\\anaconda3\\envs\\holistst\\lib\\site-packages (from sentence-transformers<3.0.0,>=2.1.0->SAGEDbias==0.0.7) (10.3.0)\n",
      "Requirement already satisfied: spacy-legacy<3.1.0,>=3.0.11 in c:\\users\\progu\\anaconda3\\envs\\holistst\\lib\\site-packages (from spacy<4.0.0,>=3.2.1->SAGEDbias==0.0.7) (3.0.12)\n",
      "Requirement already satisfied: spacy-loggers<2.0.0,>=1.0.0 in c:\\users\\progu\\anaconda3\\envs\\holistst\\lib\\site-packages (from spacy<4.0.0,>=3.2.1->SAGEDbias==0.0.7) (1.0.5)\n",
      "Requirement already satisfied: murmurhash<1.1.0,>=0.28.0 in c:\\users\\progu\\anaconda3\\envs\\holistst\\lib\\site-packages (from spacy<4.0.0,>=3.2.1->SAGEDbias==0.0.7) (1.0.10)\n",
      "Requirement already satisfied: cymem<2.1.0,>=2.0.2 in c:\\users\\progu\\anaconda3\\envs\\holistst\\lib\\site-packages (from spacy<4.0.0,>=3.2.1->SAGEDbias==0.0.7) (2.0.8)\n",
      "Requirement already satisfied: preshed<3.1.0,>=3.0.2 in c:\\users\\progu\\anaconda3\\envs\\holistst\\lib\\site-packages (from spacy<4.0.0,>=3.2.1->SAGEDbias==0.0.7) (3.0.9)\n",
      "Requirement already satisfied: thinc<8.3.0,>=8.2.2 in c:\\users\\progu\\anaconda3\\envs\\holistst\\lib\\site-packages (from spacy<4.0.0,>=3.2.1->SAGEDbias==0.0.7) (8.2.5)\n",
      "Requirement already satisfied: wasabi<1.2.0,>=0.9.1 in c:\\users\\progu\\anaconda3\\envs\\holistst\\lib\\site-packages (from spacy<4.0.0,>=3.2.1->SAGEDbias==0.0.7) (1.1.3)\n",
      "Requirement already satisfied: srsly<3.0.0,>=2.4.3 in c:\\users\\progu\\anaconda3\\envs\\holistst\\lib\\site-packages (from spacy<4.0.0,>=3.2.1->SAGEDbias==0.0.7) (2.4.8)\n",
      "Requirement already satisfied: catalogue<2.1.0,>=2.0.6 in c:\\users\\progu\\anaconda3\\envs\\holistst\\lib\\site-packages (from spacy<4.0.0,>=3.2.1->SAGEDbias==0.0.7) (2.0.10)\n",
      "Requirement already satisfied: weasel<0.5.0,>=0.1.0 in c:\\users\\progu\\anaconda3\\envs\\holistst\\lib\\site-packages (from spacy<4.0.0,>=3.2.1->SAGEDbias==0.0.7) (0.4.1)\n",
      "Requirement already satisfied: typer<1.0.0,>=0.3.0 in c:\\users\\progu\\anaconda3\\envs\\holistst\\lib\\site-packages (from spacy<4.0.0,>=3.2.1->SAGEDbias==0.0.7) (0.12.5)\n",
      "Requirement already satisfied: pydantic!=1.8,!=1.8.1,<3.0.0,>=1.7.4 in c:\\users\\progu\\anaconda3\\envs\\holistst\\lib\\site-packages (from spacy<4.0.0,>=3.2.1->SAGEDbias==0.0.7) (2.7.0)\n",
      "Requirement already satisfied: jinja2 in c:\\users\\progu\\anaconda3\\envs\\holistst\\lib\\site-packages (from spacy<4.0.0,>=3.2.1->SAGEDbias==0.0.7) (3.1.3)\n",
      "Requirement already satisfied: setuptools in c:\\users\\progu\\anaconda3\\envs\\holistst\\lib\\site-packages (from spacy<4.0.0,>=3.2.1->SAGEDbias==0.0.7) (69.5.1)\n",
      "Requirement already satisfied: langcodes<4.0.0,>=3.2.0 in c:\\users\\progu\\anaconda3\\envs\\holistst\\lib\\site-packages (from spacy<4.0.0,>=3.2.1->SAGEDbias==0.0.7) (3.4.0)\n",
      "Requirement already satisfied: colorama in c:\\users\\progu\\anaconda3\\envs\\holistst\\lib\\site-packages (from tqdm<5.0.0,>=4.66.4->SAGEDbias==0.0.7) (0.4.6)\n",
      "Requirement already satisfied: filelock in c:\\users\\progu\\anaconda3\\envs\\holistst\\lib\\site-packages (from transformers<5.0.0,>=4.11.3->SAGEDbias==0.0.7) (3.13.1)\n",
      "Requirement already satisfied: pyyaml>=5.1 in c:\\users\\progu\\anaconda3\\envs\\holistst\\lib\\site-packages (from transformers<5.0.0,>=4.11.3->SAGEDbias==0.0.7) (6.0.1)\n",
      "Requirement already satisfied: tokenizers<0.19,>=0.14 in c:\\users\\progu\\anaconda3\\envs\\holistst\\lib\\site-packages (from transformers<5.0.0,>=4.11.3->SAGEDbias==0.0.7) (0.15.1)\n",
      "Requirement already satisfied: safetensors>=0.4.1 in c:\\users\\progu\\anaconda3\\envs\\holistst\\lib\\site-packages (from transformers<5.0.0,>=4.11.3->SAGEDbias==0.0.7) (0.4.2)\n",
      "Requirement already satisfied: fsspec>=2023.5.0 in c:\\users\\progu\\anaconda3\\envs\\holistst\\lib\\site-packages (from huggingface-hub>=0.15.1->sentence-transformers<3.0.0,>=2.1.0->SAGEDbias==0.0.7) (2024.3.1)\n",
      "Requirement already satisfied: typing-extensions>=3.7.4.3 in c:\\users\\progu\\anaconda3\\envs\\holistst\\lib\\site-packages (from huggingface-hub>=0.15.1->sentence-transformers<3.0.0,>=2.1.0->SAGEDbias==0.0.7) (4.11.0)\n",
      "Requirement already satisfied: language-data>=1.2 in c:\\users\\progu\\anaconda3\\envs\\holistst\\lib\\site-packages (from langcodes<4.0.0,>=3.2.0->spacy<4.0.0,>=3.2.1->SAGEDbias==0.0.7) (1.2.0)\n",
      "Requirement already satisfied: annotated-types>=0.4.0 in c:\\users\\progu\\anaconda3\\envs\\holistst\\lib\\site-packages (from pydantic!=1.8,!=1.8.1,<3.0.0,>=1.7.4->spacy<4.0.0,>=3.2.1->SAGEDbias==0.0.7) (0.6.0)\n",
      "Requirement already satisfied: pydantic-core==2.18.1 in c:\\users\\progu\\anaconda3\\envs\\holistst\\lib\\site-packages (from pydantic!=1.8,!=1.8.1,<3.0.0,>=1.7.4->spacy<4.0.0,>=3.2.1->SAGEDbias==0.0.7) (2.18.1)\n",
      "Requirement already satisfied: six>=1.5 in c:\\users\\progu\\anaconda3\\envs\\holistst\\lib\\site-packages (from python-dateutil>=2.8.1->pandas<2.0.0,>=1.5.3->SAGEDbias==0.0.7) (1.16.0)\n",
      "Requirement already satisfied: blis<0.8.0,>=0.7.8 in c:\\users\\progu\\anaconda3\\envs\\holistst\\lib\\site-packages (from thinc<8.3.0,>=8.2.2->spacy<4.0.0,>=3.2.1->SAGEDbias==0.0.7) (0.7.11)\n",
      "Requirement already satisfied: confection<1.0.0,>=0.0.1 in c:\\users\\progu\\anaconda3\\envs\\holistst\\lib\\site-packages (from thinc<8.3.0,>=8.2.2->spacy<4.0.0,>=3.2.1->SAGEDbias==0.0.7) (0.1.5)\n",
      "Requirement already satisfied: sympy in c:\\users\\progu\\anaconda3\\envs\\holistst\\lib\\site-packages (from torch>=1.11.0->sentence-transformers<3.0.0,>=2.1.0->SAGEDbias==0.0.7) (1.12)\n",
      "Requirement already satisfied: networkx in c:\\users\\progu\\anaconda3\\envs\\holistst\\lib\\site-packages (from torch>=1.11.0->sentence-transformers<3.0.0,>=2.1.0->SAGEDbias==0.0.7) (3.1)\n",
      "Requirement already satisfied: mkl<=2021.4.0,>=2021.1.1 in c:\\users\\progu\\anaconda3\\envs\\holistst\\lib\\site-packages (from torch>=1.11.0->sentence-transformers<3.0.0,>=2.1.0->SAGEDbias==0.0.7) (2021.4.0)\n",
      "Requirement already satisfied: shellingham>=1.3.0 in c:\\users\\progu\\anaconda3\\envs\\holistst\\lib\\site-packages (from typer<1.0.0,>=0.3.0->spacy<4.0.0,>=3.2.1->SAGEDbias==0.0.7) (1.5.4)\n",
      "Requirement already satisfied: rich>=10.11.0 in c:\\users\\progu\\anaconda3\\envs\\holistst\\lib\\site-packages (from typer<1.0.0,>=0.3.0->spacy<4.0.0,>=3.2.1->SAGEDbias==0.0.7) (13.7.1)\n",
      "Requirement already satisfied: cloudpathlib<1.0.0,>=0.7.0 in c:\\users\\progu\\anaconda3\\envs\\holistst\\lib\\site-packages (from weasel<0.5.0,>=0.1.0->spacy<4.0.0,>=3.2.1->SAGEDbias==0.0.7) (0.18.1)\n",
      "Requirement already satisfied: smart-open<8.0.0,>=5.2.1 in c:\\users\\progu\\anaconda3\\envs\\holistst\\lib\\site-packages (from weasel<0.5.0,>=0.1.0->spacy<4.0.0,>=3.2.1->SAGEDbias==0.0.7) (7.0.4)\n",
      "Requirement already satisfied: soupsieve>1.2 in c:\\users\\progu\\anaconda3\\envs\\holistst\\lib\\site-packages (from beautifulsoup4->bs4<0.0.3,>=0.0.2->SAGEDbias==0.0.7) (2.5)\n",
      "Requirement already satisfied: MarkupSafe>=2.0 in c:\\users\\progu\\anaconda3\\envs\\holistst\\lib\\site-packages (from jinja2->spacy<4.0.0,>=3.2.1->SAGEDbias==0.0.7) (2.1.3)\n",
      "Requirement already satisfied: marisa-trie>=0.7.7 in c:\\users\\progu\\anaconda3\\envs\\holistst\\lib\\site-packages (from language-data>=1.2->langcodes<4.0.0,>=3.2.0->spacy<4.0.0,>=3.2.1->SAGEDbias==0.0.7) (1.2.0)\n",
      "Requirement already satisfied: intel-openmp==2021.* in c:\\users\\progu\\anaconda3\\envs\\holistst\\lib\\site-packages (from mkl<=2021.4.0,>=2021.1.1->torch>=1.11.0->sentence-transformers<3.0.0,>=2.1.0->SAGEDbias==0.0.7) (2021.4.0)\n",
      "Requirement already satisfied: tbb==2021.* in c:\\users\\progu\\anaconda3\\envs\\holistst\\lib\\site-packages (from mkl<=2021.4.0,>=2021.1.1->torch>=1.11.0->sentence-transformers<3.0.0,>=2.1.0->SAGEDbias==0.0.7) (2021.11.0)\n",
      "Requirement already satisfied: markdown-it-py>=2.2.0 in c:\\users\\progu\\anaconda3\\envs\\holistst\\lib\\site-packages (from rich>=10.11.0->typer<1.0.0,>=0.3.0->spacy<4.0.0,>=3.2.1->SAGEDbias==0.0.7) (3.0.0)\n",
      "Requirement already satisfied: pygments<3.0.0,>=2.13.0 in c:\\users\\progu\\anaconda3\\envs\\holistst\\lib\\site-packages (from rich>=10.11.0->typer<1.0.0,>=0.3.0->spacy<4.0.0,>=3.2.1->SAGEDbias==0.0.7) (2.15.1)\n",
      "Requirement already satisfied: wrapt in c:\\users\\progu\\anaconda3\\envs\\holistst\\lib\\site-packages (from smart-open<8.0.0,>=5.2.1->weasel<0.5.0,>=0.1.0->spacy<4.0.0,>=3.2.1->SAGEDbias==0.0.7) (1.16.0)\n",
      "Requirement already satisfied: mpmath>=0.19 in c:\\users\\progu\\anaconda3\\envs\\holistst\\lib\\site-packages (from sympy->torch>=1.11.0->sentence-transformers<3.0.0,>=2.1.0->SAGEDbias==0.0.7) (1.3.0)\n",
      "Requirement already satisfied: mdurl~=0.1 in c:\\users\\progu\\anaconda3\\envs\\holistst\\lib\\site-packages (from markdown-it-py>=2.2.0->rich>=10.11.0->typer<1.0.0,>=0.3.0->spacy<4.0.0,>=3.2.1->SAGEDbias==0.0.7) (0.1.2)\n"
     ]
    }
   ],
   "source": [
    "!pip install SAGEDbias==0.0.7"
   ]
  },
  {
   "cell_type": "markdown",
   "id": "ade32a58",
   "metadata": {},
   "source": [
    "At the beginning of your notebook, import the required classes and modules. It can take sometime to download the extra packages:"
   ]
  },
  {
   "cell_type": "code",
   "execution_count": 2,
   "id": "db4e1560",
   "metadata": {},
   "outputs": [
    {
     "name": "stderr",
     "output_type": "stream",
     "text": [
      "[nltk_data] Downloading package punkt to\n",
      "[nltk_data]     C:\\Users\\ProgU\\AppData\\Roaming\\nltk_data...\n",
      "[nltk_data]   Package punkt is already up-to-date!\n",
      "[nltk_data] Downloading package stopwords to\n",
      "[nltk_data]     C:\\Users\\ProgU\\AppData\\Roaming\\nltk_data...\n",
      "[nltk_data]   Package stopwords is already up-to-date!\n"
     ]
    }
   ],
   "source": [
    "from saged import SAGEDData, SourceFinder, Scraper"
   ]
  },
  {
   "cell_type": "markdown",
   "id": "e3bac178",
   "metadata": {},
   "source": [
    "### Step 2: Add Keywords to the 'Keywords' Instance\n",
    "To use SAGED, you need a data instance that holds information about the category and domain you're interested in. In this tutorial, we're interested in British people under the domain \"nationalities\":"
   ]
  },
  {
   "cell_type": "code",
   "execution_count": 3,
   "id": "238082b9",
   "metadata": {},
   "outputs": [],
   "source": [
    "domain = \"nationalities\"\n",
    "category = \"British people\"\n",
    "keywords_data = SAGEDData.create_data(domain, category, \"keywords\")"
   ]
  },
  {
   "cell_type": "markdown",
   "id": "488828cc",
   "metadata": {},
   "source": [
    "Next, add keywords to your `keywords_data` instance that will help identify sentences containing the keywords.:"
   ]
  },
  {
   "cell_type": "code",
   "execution_count": 4,
   "id": "fe13f621",
   "metadata": {},
   "outputs": [],
   "source": [
    "keywords_to_add = [\"Brit\", \"UK\"]\n",
    "for keyword in keywords_to_add:\n",
    "    keywords_data.add(keyword=keyword)"
   ]
  },
  {
   "cell_type": "markdown",
   "id": "a8c3df3a-175a-42bf-8e61-2b0eebc6979f",
   "metadata": {},
   "source": [
    "You can inspect the keywords in easy format using `keywords_data.show(data_tier=\"keywords\")`."
   ]
  },
  {
   "cell_type": "code",
   "execution_count": 5,
   "id": "0464f613-03d6-4216-9c94-f4434f89915b",
   "metadata": {},
   "outputs": [
    {
     "name": "stdout",
     "output_type": "stream",
     "text": [
      "Category: British people, Domain: nationalities\n",
      "  Keywords: Brit, UK\n"
     ]
    }
   ],
   "source": [
    "keywords_data.show(data_tier=\"keywords\")"
   ]
  },
  {
   "cell_type": "markdown",
   "id": "73a76dd2-1d44-4c1c-a273-bb30a4547567",
   "metadata": {},
   "source": [
    "Otherwise you can access the entire Json data with meta-information with `keywords_data.data`:"
   ]
  },
  {
   "cell_type": "code",
   "execution_count": 6,
   "id": "eff39387-3cd0-4622-80e2-82a216494de3",
   "metadata": {},
   "outputs": [
    {
     "name": "stdout",
     "output_type": "stream",
     "text": [
      "[{'category': 'British people', 'domain': 'nationalities', 'keywords': {'Brit': {'keyword_type': 'sub-concepts', 'keyword_provider': 'manual', 'targeted_source': [{'source_tag': 'default', 'source_type': 'unknown', 'source_specification': []}], 'scrap_mode': 'in_page', 'scrap_shared_area': 'Yes'}, 'UK': {'keyword_type': 'sub-concepts', 'keyword_provider': 'manual', 'targeted_source': [{'source_tag': 'default', 'source_type': 'unknown', 'source_specification': []}], 'scrap_mode': 'in_page', 'scrap_shared_area': 'Yes'}}}]\n"
     ]
    }
   ],
   "source": [
    "print(keywords_data.data)"
   ]
  },
  {
   "cell_type": "markdown",
   "id": "dca4ee70",
   "metadata": {},
   "source": [
    "### Step 3: Instantiate the SourceFinder Class to Find Wikipedia URLs Related to the Keyword\n",
    "Once you have populated `keywords_data`, it's time to create a `SourceFinder` instance, which will use the keywords to find relevant sources:"
   ]
  },
  {
   "cell_type": "code",
   "execution_count": 7,
   "id": "ab16ca14",
   "metadata": {},
   "outputs": [],
   "source": [
    "source_finder = SourceFinder(keywords_data)"
   ]
  },
  {
   "cell_type": "markdown",
   "id": "18b8a897",
   "metadata": {},
   "source": [
    "The next step is to find relevant Wikipedia pages that match the keywords you've specified. You can specify `top_n` to control how many relevant links embedded in the main wiki page the sourcefinder extract, while you can specify `scrape_backlinks` to indicate the number of pages with the main wiki page embedded:"
   ]
  },
  {
   "cell_type": "code",
   "execution_count": 8,
   "id": "3ab6d7fa",
   "metadata": {},
   "outputs": [
    {
     "name": "stdout",
     "output_type": "stream",
     "text": [
      "Searching Wikipedia for topic: British people\n",
      "Found Wikipedia page: British people\n",
      "Searching similar forelinks for British people\n"
     ]
    },
    {
     "name": "stderr",
     "output_type": "stream",
     "text": [
      "Depth 1/1: 100%|██████████| 2/2 [00:01<00:00,  1.06it/s]\n"
     ]
    },
    {
     "name": "stdout",
     "output_type": "stream",
     "text": [
      "Searching similar backlinks for British people\n"
     ]
    },
    {
     "name": "stderr",
     "output_type": "stream",
     "text": [
      "Depth 1/1: 100%|██████████| 2/2 [00:01<00:00,  1.05it/s]\n"
     ]
    }
   ],
   "source": [
    "top_n = 2\n",
    "scrape_backlinks = 2\n",
    "\n",
    "# Search Wikipedia for related pages based on the keywords\n",
    "wiki_sources = source_finder.find_scrape_urls_on_wiki(top_n=top_n, scrape_backlinks=scrape_backlinks)"
   ]
  },
  {
   "cell_type": "code",
   "execution_count": 9,
   "id": "09980dca-3a7e-4b07-97ba-a38b2ef0e9aa",
   "metadata": {},
   "outputs": [
    {
     "name": "stdout",
     "output_type": "stream",
     "text": [
      "Category: British people, Domain: nationalities\n",
      "  Sources: ['https://en.wikipedia.org/wiki/British_people', 'https://en.wikipedia.org/wiki/British_national_identity', 'https://en.wikipedia.org/wiki/British_Americans']\n"
     ]
    }
   ],
   "source": [
    "wiki_sources.show(data_tier=\"source_finder\")"
   ]
  },
  {
   "cell_type": "code",
   "execution_count": 10,
   "id": "ffc06bfb-d923-4759-8232-488db5e337ae",
   "metadata": {},
   "outputs": [
    {
     "name": "stdout",
     "output_type": "stream",
     "text": [
      "[{'category': 'British people', 'domain': 'nationalities', 'keywords': {'Brit': {'keyword_type': 'sub-concepts', 'keyword_provider': 'manual', 'targeted_source': [{'source_tag': 'default', 'source_type': 'unknown', 'source_specification': []}], 'scrap_mode': 'in_page', 'scrap_shared_area': 'Yes'}, 'UK': {'keyword_type': 'sub-concepts', 'keyword_provider': 'manual', 'targeted_source': [{'source_tag': 'default', 'source_type': 'unknown', 'source_specification': []}], 'scrap_mode': 'in_page', 'scrap_shared_area': 'Yes'}}, 'category_shared_source': [{'source_tag': 'default', 'source_type': 'wiki_urls', 'source_specification': ['https://en.wikipedia.org/wiki/British_people', 'https://en.wikipedia.org/wiki/British_national_identity', 'https://en.wikipedia.org/wiki/British_Americans']}]}]\n"
     ]
    }
   ],
   "source": [
    "print(wiki_sources.data)"
   ]
  },
  {
   "cell_type": "markdown",
   "id": "85367df5",
   "metadata": {},
   "source": [
    "### Step 4: Scrape the Wikipedia Pages\n",
    "Once you have a list of Wikipedia URLs, the next step is to use the `Scraper` class to scrape content from those URLs:"
   ]
  },
  {
   "cell_type": "code",
   "execution_count": 11,
   "id": "19ea6ade",
   "metadata": {},
   "outputs": [
    {
     "name": "stderr",
     "output_type": "stream",
     "text": [
      "Scraping through URL:   0%|          | 0/3 [00:00<?, ?url/s]\n",
      "Scraping in page:   0%|          | 0/2 [00:00<?, ?keyword/s]\u001b[A\n",
      "Scraping in page:  50%|█████     | 1/2 [00:15<00:15, 15.65s/keyword]\u001b[A\n",
      "Scraping in page: 100%|██████████| 2/2 [00:28<00:00, 14.02s/keyword]\u001b[A\n",
      "Scraping through URL:  33%|███▎      | 1/3 [00:28<00:56, 28.06s/url]\n",
      "Scraping in page:   0%|          | 0/2 [00:00<?, ?keyword/s]\u001b[A\n",
      "Scraping in page:  50%|█████     | 1/2 [00:05<00:05,  5.22s/keyword]\u001b[A\n",
      "Scraping in page: 100%|██████████| 2/2 [00:11<00:00,  5.98s/keyword]\u001b[A\n",
      "Scraping through URL:  67%|██████▋   | 2/3 [00:40<00:18, 18.59s/url]\n",
      "Scraping in page:   0%|          | 0/2 [00:00<?, ?keyword/s]\u001b[A\n",
      "Scraping in page:  50%|█████     | 1/2 [00:07<00:07,  7.42s/keyword]\u001b[A\n",
      "Scraping in page: 100%|██████████| 2/2 [00:14<00:00,  7.25s/keyword]\u001b[A\n",
      "Scraping through URL: 100%|██████████| 3/3 [00:54<00:00, 18.18s/url]\n"
     ]
    }
   ],
   "source": [
    "# Initialize the Scraper instance using the 'wiki_sources' SAGEDData instance\n",
    "scraper = Scraper(wiki_sources)\n",
    "\n",
    "# Scrape sentences from Wikipedia pages\n",
    "scraper.scrape_in_page_for_wiki_with_buffer_files()\n",
    "scraped_sentences_data = scraper.scraped_sentence_to_saged_data()"
   ]
  },
  {
   "cell_type": "code",
   "execution_count": 12,
   "id": "e38c3cd1-b659-48ad-ae43-dab9fc5ae6d1",
   "metadata": {},
   "outputs": [
    {
     "name": "stdout",
     "output_type": "stream",
     "text": [
      "Category: British people, Domain: nationalities\n",
      "  Sources: ['https://en.wikipedia.org/wiki/British_people', 'https://en.wikipedia.org/wiki/British_national_identity', 'https://en.wikipedia.org/wiki/British_Americans']\n",
      "  Keyword 'Brit' sentences: [\"The BRIT Awards are the British Phonographic Industry's annual awards for both international and British popular music.\", \"British, brit'ish, adj. of Britain or the Commonwealth.\", \"Briton, brit'ὁn, n. one of the early inhabitants of Britain: a native of Great Britain.\"]\n",
      "  Keyword 'UK' sentences: [\"The BRIT Awards are the British Phonographic Industry's annual awards for both international and British popular music.\", \"British, brit'ish, adj. of Britain or the Commonwealth.\", \"Briton, brit'ὁn, n. one of the early inhabitants of Britain: a native of Great Britain.\", 'It also refers to citizens of the former British Empire, who settled in the country prior to 1973, and hold neither UK citizenship nor nationality.', 'The population of the UK stands at around 67\\xa0million, with 50 million being ethnic British.', 'Outside of the UK, the British diaspora totals around 200\\xa0million with higher concentrations in the United States, Australia, Canada, and New Zealand, with smaller concentrations in the Republic of Ireland, Chile, South Africa, and parts of the Caribbean.', 'Scots and people from the rest of the UK share the purpose that Britain has something to say to the rest of the world about the values of freedom, democracy and the dignity of the people that you stand up for.', 'Born in former British colonies,  they settled in the UK before 1973, and were granted \"right of abode\" by the Immigration Act 1971.', 'By 1890, there were over 1.5\\xa0million further UK-born people living in Australia, Canada, New Zealand and South Africa.', 'There is no single British language, though English is by far the main language spoken by British citizens, being spoken monolingually by more than 70% of the UK population.', 'However, under the European Charter for Regional or Minority Languages, the Welsh, Scottish Gaelic, Cornish, Irish Gaelic, Ulster Scots, Manx and Scots languages are officially recognised as Regional or Minority languages by the UK Government.', 'In some parts of the UK, some of these languages are commonly spoken as a first language; in wider areas, their use in a bilingual context is sometimes supported or promoted by central or local government policy.', 'Unlike other broadcasters in the UK, it is a public service based, quasi-autonomous, statutory corporation run by the BBC Trust.', 'Also popularised in the United Kingdom during the 1990s were several domestically produced varieties of electronic dance music; acid house, UK hard house, jungle, UK garage which in turn have influenced grime and British hip hop in the 2000s.', 'The UK is represented by a single team at the Olympic Games and at the 2012 Summer Olympics, the Great Britain team won 65 medals: 29 gold (the most since the 1908 Summer Olympics), 17 silver and 19 bronze, ranking them 3rd.', 'In total, sportsmen and women from the UK \"hold over 50 world titles in a variety of sports, such as professional boxing, rowing, snooker, squash and motorcycle sports\".', 'A 2006 poll found that association football was the most popular sport in the UK.', 'The Scottish National Party is the third largest political party in the UK in terms of both party membership and representation in parliament, having won 56 out of 59 Scottish seats at the 2015 General Election.', 'It is descended from the Liberal Party, a major ruling party of 19th-century UK through to the First World War, when it was supplanted by the Labour Party.', 'The UK Independence Party have asserted that Britishness is tied with inclusive civic nationalism, whereas the Commission for Racial Equality reported that Scots, Welsh, Irish and ethnic minorities may feel quite divorced from Britishness because of ethnic English dominance; Gwynfor Evans, a Welsh nationalist politician, said that \"Britishness is a political synonym for Englishness which extends English culture over the Scots, Welsh, and the Irish.\" Historians Graham Macphee and Prem Poddar state that Britishness and Englishness are invariably conflated as they are both tied to the identity of the British Empire and UK; slippage between the two words is common.', 'One of the central issues identified at the Fabian Society conference was how the English identity fits within the framework of a devolved UK.', 'Scots and people from the rest of the UK share the purpose —that Britain has something to say to the rest of the world about the values of freedom, democracy, and the dignity of the people that you stand up for.', 'The same advice stated that UK schools must:', \"The Scottish National Party MSP and Cabinet Secretary for Justice, Kenny MacAskill gave the following submission to the UK Parliament's Joint Committee on Human Rights in March 2008 discussing a British Bill of Rights:\"]\n"
     ]
    }
   ],
   "source": [
    "scraped_sentences_data.show(data_tier=\"scraped_sentences\")"
   ]
  },
  {
   "cell_type": "code",
   "execution_count": 13,
   "id": "187b1dbb-1dc7-463c-b538-8f16d4d1782e",
   "metadata": {},
   "outputs": [
    {
     "name": "stdout",
     "output_type": "stream",
     "text": [
      "[{'category': 'British people', 'domain': 'nationalities', 'keywords': {'Brit': {'keyword_type': 'sub-concepts', 'keyword_provider': 'manual', 'targeted_source': [{'source_tag': 'default', 'source_type': 'unknown', 'source_specification': []}], 'scrap_mode': 'in_page', 'scrap_shared_area': 'Yes', 'scraped_sentences': [(\"The BRIT Awards are the British Phonographic Industry's annual awards for both international and British popular music.\", 'default'), (\"British, brit'ish, adj. of Britain or the Commonwealth.\", 'default'), (\"Briton, brit'ὁn, n. one of the early inhabitants of Britain: a native of Great Britain.\", 'default')]}, 'UK': {'keyword_type': 'sub-concepts', 'keyword_provider': 'manual', 'targeted_source': [{'source_tag': 'default', 'source_type': 'unknown', 'source_specification': []}], 'scrap_mode': 'in_page', 'scrap_shared_area': 'Yes', 'scraped_sentences': [(\"The BRIT Awards are the British Phonographic Industry's annual awards for both international and British popular music.\", 'default'), (\"British, brit'ish, adj. of Britain or the Commonwealth.\", 'default'), (\"Briton, brit'ὁn, n. one of the early inhabitants of Britain: a native of Great Britain.\", 'default'), ('It also refers to citizens of the former British Empire, who settled in the country prior to 1973, and hold neither UK citizenship nor nationality.', 'default'), ('The population of the UK stands at around 67\\xa0million, with 50 million being ethnic British.', 'default'), ('Outside of the UK, the British diaspora totals around 200\\xa0million with higher concentrations in the United States, Australia, Canada, and New Zealand, with smaller concentrations in the Republic of Ireland, Chile, South Africa, and parts of the Caribbean.', 'default'), ('Scots and people from the rest of the UK share the purpose that Britain has something to say to the rest of the world about the values of freedom, democracy and the dignity of the people that you stand up for.', 'default'), ('Born in former British colonies,  they settled in the UK before 1973, and were granted \"right of abode\" by the Immigration Act 1971.', 'default'), ('By 1890, there were over 1.5\\xa0million further UK-born people living in Australia, Canada, New Zealand and South Africa.', 'default'), ('There is no single British language, though English is by far the main language spoken by British citizens, being spoken monolingually by more than 70% of the UK population.', 'default'), ('However, under the European Charter for Regional or Minority Languages, the Welsh, Scottish Gaelic, Cornish, Irish Gaelic, Ulster Scots, Manx and Scots languages are officially recognised as Regional or Minority languages by the UK Government.', 'default'), ('In some parts of the UK, some of these languages are commonly spoken as a first language; in wider areas, their use in a bilingual context is sometimes supported or promoted by central or local government policy.', 'default'), ('Unlike other broadcasters in the UK, it is a public service based, quasi-autonomous, statutory corporation run by the BBC Trust.', 'default'), ('Also popularised in the United Kingdom during the 1990s were several domestically produced varieties of electronic dance music; acid house, UK hard house, jungle, UK garage which in turn have influenced grime and British hip hop in the 2000s.', 'default'), ('The UK is represented by a single team at the Olympic Games and at the 2012 Summer Olympics, the Great Britain team won 65 medals: 29 gold (the most since the 1908 Summer Olympics), 17 silver and 19 bronze, ranking them 3rd.', 'default'), ('In total, sportsmen and women from the UK \"hold over 50 world titles in a variety of sports, such as professional boxing, rowing, snooker, squash and motorcycle sports\".', 'default'), ('A 2006 poll found that association football was the most popular sport in the UK.', 'default'), ('The Scottish National Party is the third largest political party in the UK in terms of both party membership and representation in parliament, having won 56 out of 59 Scottish seats at the 2015 General Election.', 'default'), ('It is descended from the Liberal Party, a major ruling party of 19th-century UK through to the First World War, when it was supplanted by the Labour Party.', 'default'), ('The UK Independence Party have asserted that Britishness is tied with inclusive civic nationalism, whereas the Commission for Racial Equality reported that Scots, Welsh, Irish and ethnic minorities may feel quite divorced from Britishness because of ethnic English dominance; Gwynfor Evans, a Welsh nationalist politician, said that \"Britishness is a political synonym for Englishness which extends English culture over the Scots, Welsh, and the Irish.\" Historians Graham Macphee and Prem Poddar state that Britishness and Englishness are invariably conflated as they are both tied to the identity of the British Empire and UK; slippage between the two words is common.', 'default'), ('One of the central issues identified at the Fabian Society conference was how the English identity fits within the framework of a devolved UK.', 'default'), ('Scots and people from the rest of the UK share the purpose —that Britain has something to say to the rest of the world about the values of freedom, democracy, and the dignity of the people that you stand up for.', 'default'), ('The same advice stated that UK schools must:', 'default'), (\"The Scottish National Party MSP and Cabinet Secretary for Justice, Kenny MacAskill gave the following submission to the UK Parliament's Joint Committee on Human Rights in March 2008 discussing a British Bill of Rights:\", 'default')]}}, 'category_shared_source': [{'source_tag': 'default', 'source_type': 'wiki_urls', 'source_specification': ['https://en.wikipedia.org/wiki/British_people', 'https://en.wikipedia.org/wiki/British_national_identity', 'https://en.wikipedia.org/wiki/British_Americans']}]}]\n"
     ]
    }
   ],
   "source": [
    "print(scraped_sentences_data.data)"
   ]
  },
  {
   "cell_type": "markdown",
   "id": "1d9b1a34-c7e1-4c21-92fc-2492bc37efd1",
   "metadata": {},
   "source": [
    "### Optional Step 1: Find Similar Keywords Using Embeddings of Wikipedia\n",
    "You can also use the `KeywordFinder` class with `find_keywords_by_embedding_on_wiki` method to find the keywords related to the main category word:"
   ]
  },
  {
   "cell_type": "code",
   "execution_count": 14,
   "id": "29f1ebe7-2431-4ccb-aa4c-37fe61c65975",
   "metadata": {},
   "outputs": [
    {
     "name": "stdout",
     "output_type": "stream",
     "text": [
      "Initiating the embedding model...\n"
     ]
    },
    {
     "data": {
      "application/vnd.jupyter.widget-view+json": {
       "model_id": "b6cf10ba2eb24321b9bdea8d6606e6ec",
       "version_major": 2,
       "version_minor": 0
      },
      "text/plain": [
       "Batches:   0%|          | 0/85 [00:00<?, ?it/s]"
      ]
     },
     "metadata": {},
     "output_type": "display_data"
    },
    {
     "data": {
      "application/vnd.jupyter.widget-view+json": {
       "model_id": "530823ea7b8443db97c1d0ed737de20b",
       "version_major": 2,
       "version_minor": 0
      },
      "text/plain": [
       "Batches:   0%|          | 0/1 [00:00<?, ?it/s]"
      ]
     },
     "metadata": {},
     "output_type": "display_data"
    },
    {
     "name": "stderr",
     "output_type": "stream",
     "text": [
      "Calculating similarities: 100%|██████████| 2718/2718 [00:00<00:00, 14580.71it/s]"
     ]
    },
    {
     "name": "stdout",
     "output_type": "stream",
     "text": [
      "Category: British people, Domain: nationalities\n",
      "  Keywords: uk, brit, england, yorkshire, people\n"
     ]
    },
    {
     "name": "stderr",
     "output_type": "stream",
     "text": [
      "\n"
     ]
    }
   ],
   "source": [
    "from saged import KeywordFinder\n",
    "keyword_finder = KeywordFinder(category, domain)\n",
    "keyword_finder.find_keywords_by_embedding_on_wiki(n_keywords=5)\n",
    "keywords_data_embeddings = keyword_finder.keywords_to_saged_data()\n",
    "keywords_data_embeddings.show(data_tier=\"keywords\")"
   ]
  },
  {
   "cell_type": "markdown",
   "id": "88a8253f-33cd-4f69-8397-8591b6051532",
   "metadata": {},
   "source": [
    "### Option Step 2: Find Similar Keywords Using a Custom LLM Function\n",
    "You can also use the `KeywordFinder` class with `find_keywords_by_llm_inquiries` method to find the keywords related to the main category word:"
   ]
  },
  {
   "cell_type": "code",
   "execution_count": 15,
   "id": "8c8d35b5-d296-4ea7-a9a3-e9d85958a44e",
   "metadata": {},
   "outputs": [
    {
     "name": "stderr",
     "output_type": "stream",
     "text": [
      "C:\\Users\\ProgU\\anaconda3\\envs\\holistst\\Lib\\site-packages\\saged\\_scrape.py:185: UserWarning: Model name not provided. Using the default model name 'user_LLM'\n",
      "  warnings.warn(\"Model name not provided. Using the default model name 'user_LLM'\")\n",
      "C:\\Users\\ProgU\\anaconda3\\envs\\holistst\\Lib\\site-packages\\saged\\_utility.py:72: UserWarning: The generation function seems not capable enough to respond in Python list format.\n",
      "  warnings.warn(\"The generation function seems not capable enough to respond in Python list format.\")\n",
      "finding keywords by LLM: 100%|██████████| 5/5 [00:00<?, ?run/s]"
     ]
    },
    {
     "name": "stdout",
     "output_type": "stream",
     "text": [
      "Invocation failed at iteration 0: invalid syntax (<string>, line 0)\n",
      "Invocation failed at iteration 1: invalid syntax (<string>, line 0)\n",
      "Invocation failed at iteration 2: invalid syntax (<string>, line 0)\n",
      "Invocation failed at iteration 3: invalid syntax (<string>, line 0)\n",
      "Invocation failed at iteration 4: invalid syntax (<string>, line 0)\n",
      "final_set\n",
      "{'British people'}\n",
      "summary\n",
      "['British people']\n",
      "Category: British people, Domain: nationalities\n",
      "  Keywords: British people\n"
     ]
    },
    {
     "name": "stderr",
     "output_type": "stream",
     "text": [
      "\n"
     ]
    }
   ],
   "source": [
    "def your_generation_function(keyword):\n",
    "    '''This is the LLM generation function to drive the keyword finder.'''\n",
    "    return 'Dummy'\n",
    "\n",
    "keyword_finder.find_keywords_by_llm_inquiries(generation_function=your_generation_function, n_keywords=5, n_run =5)\n",
    "keywords_data_llm = keyword_finder.keywords_to_saged_data()\n",
    "keywords_data_llm.show(data_tier=\"keywords\")"
   ]
  },
  {
   "cell_type": "markdown",
   "id": "1f38d43e-5175-4ed7-9fb0-9fe933a91a92",
   "metadata": {},
   "source": [
    "### Optional Step 3:  Use Local Files for Scraping"
   ]
  },
  {
   "cell_type": "markdown",
   "id": "5f94c05e-4b84-43a7-86bc-d79ca186fb9f",
   "metadata": {},
   "source": [
    "Replace with your local directory path with intended files. Check if the directory exists, create one if it does not exist"
   ]
  },
  {
   "cell_type": "code",
   "execution_count": 16,
   "id": "7f7daa96-9368-48f6-9cb6-b11abed2e53d",
   "metadata": {},
   "outputs": [],
   "source": [
    "import os \n",
    "directory_path = \"data/customized/local_files/uk\"  \n",
    "if not os.path.exists(directory_path):\n",
    "    os.makedirs(directory_path)\n",
    "    print(f\"The directory '{directory_path}' did not exist and was created.\")"
   ]
  },
  {
   "cell_type": "markdown",
   "id": "5eff862a-3885-49b6-b64b-84e9e4b8b01a",
   "metadata": {},
   "source": [
    "Use `docling` to create `.txt` local_files of intended webpages. Save the converted text as a `.txt` file under the specified directoryt()"
   ]
  },
  {
   "cell_type": "code",
   "execution_count": 17,
   "id": "bc0ce861-141d-4094-a936-3a40dac92387",
   "metadata": {},
   "outputs": [
    {
     "name": "stdout",
     "output_type": "stream",
     "text": [
      "Requirement already satisfied: pydantic==2.7.0 in c:\\users\\progu\\anaconda3\\envs\\holistst\\lib\\site-packages (2.7.0)\n",
      "Requirement already satisfied: annotated-types>=0.4.0 in c:\\users\\progu\\anaconda3\\envs\\holistst\\lib\\site-packages (from pydantic==2.7.0) (0.6.0)\n",
      "Requirement already satisfied: pydantic-core==2.18.1 in c:\\users\\progu\\anaconda3\\envs\\holistst\\lib\\site-packages (from pydantic==2.7.0) (2.18.1)\n",
      "Requirement already satisfied: typing-extensions>=4.6.1 in c:\\users\\progu\\anaconda3\\envs\\holistst\\lib\\site-packages (from pydantic==2.7.0) (4.11.0)\n"
     ]
    }
   ],
   "source": [
    "# !pip install docling\n",
    "!pip install pydantic==2.7.0"
   ]
  },
  {
   "cell_type": "code",
   "execution_count": 18,
   "id": "c7f98ead-d700-4849-a772-a6db3c631b8e",
   "metadata": {},
   "outputs": [
    {
     "name": "stdout",
     "output_type": "stream",
     "text": [
      "Converted document saved to 'data/customized/local_files/uk\\converted_document.txt'.\n"
     ]
    }
   ],
   "source": [
    "from docling.document_converter import DocumentConverter\n",
    "\n",
    "source = \"https://www.gov.uk/apply-citizenship-born-uk/print\"\n",
    "converter = DocumentConverter()\n",
    "result = converter.convert(source)\n",
    "converted_text = result.document.export_to_text()\n",
    "\n",
    "output_file_path = os.path.join(directory_path, \"converted_document.txt\")\n",
    "with open(output_file_path, \"w\", encoding=\"utf-8\") as text_file:\n",
    "    text_file.write(converted_text)\n",
    "print(f\"Converted document saved to '{output_file_path}'.\")"
   ]
  },
  {
   "cell_type": "code",
   "execution_count": 19,
   "id": "4fb96e3b-7155-4e8f-a88d-06138963d280",
   "metadata": {},
   "outputs": [
    {
     "name": "stdout",
     "output_type": "stream",
     "text": [
      "Cookies on GOV.UK\n",
      "\n",
      "We use some essential cookies to make this website work.\n",
      "\n",
      "We’d like to set additional cookies to understand how you use GOV.UK, remember your settings and improve government services.\n",
      "\n",
      "We also use cookies set by other sites to help us deliver content from their services.\n",
      "\n",
      "You have accepted additional cookies. You can change your cookie settings at any time.\n",
      "\n",
      "You have rejected additional cookies. You can change your cookie settings at any time.\n",
      "\n",
      "Navigation menu\n",
      "\n",
      "Services and information\n",
      "\n",
      " Benefits\n",
      "\n",
      " Births, death, marriages and care\n",
      "\n",
      " Business and self-employed\n",
      "\n",
      " Childcare and parenting\n",
      "\n",
      " Citizenship and living in the UK\n",
      "\n",
      " Crime, justice and the law\n",
      "\n",
      " Disabled people\n",
      "\n",
      " Driving and transport\n",
      "\n",
      " Education and learning\n",
      "\n",
      " Employing people\n",
      "\n",
      " Environment and countryside\n",
      "\n",
      " Housing and local services\n",
      "\n",
      " Money and tax\n",
      "\n",
      " Passports, travel and living abroad\n",
      "\n",
      " Visas and immigration\n",
      "\n",
      " Working, jobs and pensions\n",
      "\n",
      "Government activity\n",
      "\n",
      " Departments\n",
      "Departments, agencies and public bodies\n",
      "\n",
      " News\n",
      "News stories, speeches, letters and notices\n",
      "\n",
      " Guidance and regulation\n",
      "Detailed guidance, regulations and rules\n",
      "\n",
      " Research and statistics\n",
      "Reports, analysis and official statistics\n",
      "\n",
      " Policy papers and consultations\n",
      "Consultations and strategy\n",
      "\n",
      " Transparency\n",
      "Data, Freedom of Information releases and corporate reports\n",
      "\n",
      "Search\n",
      "\n",
      " Home\n",
      "\n",
      " Citizenship and living in the UK\n",
      "\n",
      " British citizenship\n",
      "\n",
      "Apply for citizenship if you were born in the UK\n",
      "\n",
      "Printable version\n",
      "\n",
      "1. Who can apply\n",
      "\n",
      "You may be eligible to apply to ‘register’ as a British citizen if you were born in the UK. It depends on when you were born and your parents’ circumstances.\n",
      "\n",
      "This is one way to apply for British citizenship. Check if you’re eligible to apply another way - including through the Windrush scheme.\n",
      "\n",
      "You were born on or after 1 January 1983\n",
      "\n",
      "You may be eligible if either:\n",
      "\n",
      " you’re under 18 and since your birth one of your parents became a British citizen, or got permission to stay in the UK permanently\n",
      "\n",
      " you lived in the UK until you were 10 or older\n",
      "\n",
      "When you do not need to apply\n",
      "\n",
      "You’re usually automatically a British citizen if you were both:\n",
      "\n",
      " born in the UK on or after 1 January 1983\n",
      "\n",
      " born when one of your parents was a British citizen or ‘settled’ in the UK\n",
      "\n",
      "You can apply for a UK passport instead, or ask for a letter confirming your citizenship (your ‘immigration status’).\n",
      "\n",
      "If you live in the Channel Islands, the Isle of Man or a British overseas territory, there’s a different way to get a letter confirming your citizenship.\n",
      "\n",
      "You were born before 1983\n",
      "\n",
      "You’re automatically a British citizen if you were born in the UK before 1 January 1983, unless:\n",
      "\n",
      " your father was a diplomat working for a non-UK country\n",
      "\n",
      " your father was ‘an enemy alien in occupation’ and you were born in the Channel Islands during World War 2\n",
      "\n",
      "You can apply for a UK passport instead, or ask for a letter confirming your citizenship (your ‘immigration status’).\n",
      "\n",
      "If you live in the Channel Islands, the Isle of Man or a British overseas territory, there’s a different way to get a letter confirming your citizenship.\n",
      "\n",
      "2. If you're under 18\n",
      "\n",
      "You can register to become a British citizen if one of your parents considered the UK as their home and did any of the following after you were born:\n",
      "\n",
      " became a British citizen\n",
      "\n",
      " got indefinite leave to remain in the UK\n",
      "\n",
      " got ‘settled status’ (also known as ‘indefinite leave to remain under the EU Settlement Scheme’)\n",
      "\n",
      " got indefinite leave to enter the UK\n",
      "\n",
      " got permanent residence status\n",
      "\n",
      "You must have been born in the UK and be under 18 when you apply.\n",
      "\n",
      "Fees\n",
      "\n",
      "It costs £1,214 to apply. If you turn 18 during the application process you’ll need to pay £130 for your citizenship ceremony.\n",
      "\n",
      "You may be able to apply for a fee waiver if you’re under 18 and cannot afford to pay the application fee.\n",
      "\n",
      "Before you apply\n",
      "\n",
      "Read the guidance to check you can apply.\n",
      "\n",
      "How to apply\n",
      "\n",
      "Fill in the form online.\n",
      "\n",
      "You’ll be asked to make an appointment at a UK Visa and Citizenship Application Services (UKVCAS) service point to provide your biometric information (your fingerprints and a photo).\n",
      "\n",
      "You do not need to send your documents anywhere. You can either:\n",
      "\n",
      " upload copies into the online service\n",
      "\n",
      " have them scanned at your UKVCAS appointment\n",
      "\n",
      "You can also apply by post.\n",
      "\n",
      "If you’re applying from the Channel Islands, the Isle of Man or a British overseas territory\n",
      "\n",
      "If you live in the Channel Islands, the Isle of Man or a British overseas territory, you have to apply in person or by post instead. Check which you can do with your governor’s office.\n",
      "\n",
      "You’ll be told how to provide your biometric information and supporting documents when you apply.\n",
      "\n",
      "Get help to apply online\n",
      "\n",
      "You can get help with completing the online form if you:\n",
      "\n",
      " do not feel confident using a computer or mobile device\n",
      "\n",
      " do not have internet access\n",
      "\n",
      "You can only use this service if you’re applying in the UK.\n",
      "\n",
      "You cannot get immigration advice through this service.\n",
      "\n",
      "3. If you lived in the UK until you were 10\n",
      "\n",
      "If you lived in the UK until you were 10 you might automatically be a British citizen. This can depend on if your parents were British citizens or ‘settled’ in the UK when you were born.\n",
      "\n",
      "‘Settled’ means you are living in the UK without any time restrictions. This includes people who have one of the following:\n",
      "\n",
      " ‘indefinite leave to remain’\n",
      "\n",
      " ‘settled status’ (also known as ‘indefinite leave to remain under the EU Settlement Scheme’)\n",
      "\n",
      " permanent residence status\n",
      "\n",
      " ‘right of abode’\n",
      "\n",
      "If you’re not automatically a British citizen, you might be able to register to become one.\n",
      "\n",
      "You were born after 31 December 1982 and before 1 July 2006\n",
      "\n",
      "You’re automatically a British citizen if, when you were born, either:\n",
      "\n",
      " your mother was a British citizen or settled in the UK\n",
      "\n",
      " your father was a British citizen or settled in the UK and was married to your mother\n",
      "\n",
      "You can register to become a British citizen if, when you were born, either:\n",
      "\n",
      " both of your parents were not British citizens or settled in the UK\n",
      "\n",
      " your father was a British citizen or settled in the UK and was not married to your mother\n",
      "\n",
      "You must not have spent more than 90 days outside the UK in each of the first 10 years of your life.\n",
      "\n",
      "Explain on the form if there are special reasons that you spent more time outside the UK.\n",
      "\n",
      "You were born on or after 1 July 2006\n",
      "\n",
      "You’re automatically a British citizen if, when you were born, one of your parents was a British citizen or settled in the UK.\n",
      "\n",
      "You can register to become a British citizen if, when you were born, neither of your parents were British citizens or settled in the UK.\n",
      "\n",
      "You must not have spent more than 90 days outside the UK in each of the first 10 years of your life.\n",
      "\n",
      "Explain on the form if there are special reasons that you spent more time outside the UK.\n",
      "\n",
      "Fees\n",
      "\n",
      "It costs £1,214 if you’re under 18. If you turn 18 during the application process you’ll need to pay £130 for your citizenship ceremony.\n",
      "\n",
      "It costs £1,481 to apply if you’re over 18 (including citizenship ceremony fee).\n",
      "\n",
      "You may be able to apply for a fee waiver if you’re under 18 and cannot afford to pay the application fee.\n",
      "\n",
      "Before you apply\n",
      "\n",
      "Read the guidance to check you can apply.\n",
      "\n",
      "How to apply\n",
      "\n",
      "Fill in the form online.\n",
      "\n",
      "You’ll be asked to make an appointment at a UK Visa and Citizenship Application Services (UKVCAS) service point to provide your biometric information (your fingerprints and a photo).\n",
      "\n",
      "You do not need to send your documents anywhere. You can either:\n",
      "\n",
      " upload copies into the online service\n",
      "\n",
      " have them scanned at your UKVCAS appointment\n",
      "\n",
      "You can also apply by post.\n",
      "\n",
      "If you’re applying from the Channel Islands, the Isle of Man or a British overseas territory\n",
      "\n",
      "If you live in the Channel Islands, the Isle of Man or a British overseas territory, you have to apply in person or by post instead. Check which you can do with your governor’s office.\n",
      "\n",
      "You’ll be told how to provide your biometric information and supporting documents when you apply.\n",
      "\n",
      "Get help to apply online\n",
      "\n",
      "You can get help with completing the online form if you:\n",
      "\n",
      " do not feel confident using a computer or mobile device\n",
      "\n",
      " do not have internet access\n",
      "\n",
      "You can only use this service if you’re applying in the UK.\n",
      "\n",
      "You cannot get immigration advice through this service.\n",
      "\n",
      "4. After you've applied\n",
      "\n",
      "You’ll usually get a decision within 6 months - some applications can take longer. If yours will take longer you’ll be told before 6 months have passed.\n",
      "\n",
      "You’ll be told if you need to provide more information to help with your application.\n",
      "\n",
      "If your circumstances change\n",
      "\n",
      "You should contact UK Visas and Immigration (part of the Home Office) if your situation changes during your application (for example, you move house, get married or are arrested).\n",
      "\n",
      "Nationality contact centre  \n",
      "\n",
      "nationalityenquiries@homeoffice.gov.uk\n",
      "\n",
      "You might be asked to attend an interview where you’ll need to speak without an interpreter.\n",
      "\n",
      "Attending a citizenship ceremony\n",
      "\n",
      "You’ll need to attend a citizenship ceremony if your application is successful and you’re 18 years old or over.\n",
      "\n",
      "Travelling to and from the UK\n",
      "\n",
      "You can apply for a British passport if your application is successful.\n",
      "\n",
      "Apply for a:\n",
      "\n",
      " child’s passport if you’re under 16\n",
      "\n",
      " adult passport if you’re 16 or over\n",
      "\n",
      "Once you have a British passport you must use it to enter the UK.\n",
      "\n",
      "If you do not want a British passport you can apply for a certificate of entitlement instead.\n",
      "\n",
      "You cannot enter the UK using your certificate of British citizenship.\n",
      "\n",
      "Is this page useful?\n",
      "\n",
      " Maybe\n",
      "\n",
      " Yes this page is useful\n",
      "\n",
      " No this page is not useful\n",
      "\n",
      "Help us improve GOV.UK\n",
      "\n",
      "Don’t include personal or financial information like your National Insurance number or credit card details.\n",
      "\n",
      "Help us improve GOV.UK\n",
      "\n",
      "To help us improve GOV.UK, we’d like to know more about your visit today.\n",
      "        Please fill in this survey (opens in a new tab).\n",
      "\n",
      "Services and information\n",
      "\n",
      " Benefits\n",
      "\n",
      " Births, death, marriages and care\n",
      "\n",
      " Business and self-employed\n",
      "\n",
      " Childcare and parenting\n",
      "\n",
      " Citizenship and living in the UK\n",
      "\n",
      " Crime, justice and the law\n",
      "\n",
      " Disabled people\n",
      "\n",
      " Driving and transport\n",
      "\n",
      " Education and learning\n",
      "\n",
      " Employing people\n",
      "\n",
      " Environment and countryside\n",
      "\n",
      " Housing and local services\n",
      "\n",
      " Money and tax\n",
      "\n",
      " Passports, travel and living abroad\n",
      "\n",
      " Visas and immigration\n",
      "\n",
      " Working, jobs and pensions\n",
      "\n",
      "Government activity\n",
      "\n",
      " Departments\n",
      "\n",
      " News\n",
      "\n",
      " Guidance and regulation\n",
      "\n",
      " Research and statistics\n",
      "\n",
      " Policy papers and consultations\n",
      "\n",
      " Transparency\n",
      "\n",
      " How government works\n",
      "\n",
      " Get involved\n",
      "\n",
      "Support links\n",
      "\n",
      " Help\n",
      "\n",
      " Privacy\n",
      "\n",
      " Cookies\n",
      "\n",
      " Accessibility statement\n",
      "\n",
      " Contact\n",
      "\n",
      " Terms and conditions\n",
      "\n",
      " Rhestr o Wasanaethau Cymraeg\n",
      "\n",
      " Government Digital Service\n"
     ]
    }
   ],
   "source": [
    "print(converted_text)"
   ]
  },
  {
   "cell_type": "markdown",
   "id": "b9a502eb-4a74-43cd-b36f-5003167c611c",
   "metadata": {},
   "source": [
    "Use the `find_scrape_paths_local` method to locate text files in the directory. Make sure you reconfigure the `SourceFinder` etc."
   ]
  },
  {
   "cell_type": "code",
   "execution_count": 20,
   "id": "8e534216-d77e-4e02-ad8f-b9a8bfe72395",
   "metadata": {},
   "outputs": [
    {
     "name": "stdout",
     "output_type": "stream",
     "text": [
      "Category: British people, Domain: nationalities\n",
      "  Sources: ['data/customized/local_files/uk/converted_document.txt']\n"
     ]
    }
   ],
   "source": [
    "source_finder = SourceFinder(keywords_data_embeddings)\n",
    "local_sources = source_finder.find_scrape_paths_local(directory_path)\n",
    "local_sources.show(data_tier=\"source_finder\")"
   ]
  },
  {
   "cell_type": "markdown",
   "id": "dff0cf82-6ee1-4c8a-b53d-24a862523792",
   "metadata": {},
   "source": [
    "Initialize the `Scraper` instance and use the `scrape_local_with_buffer_files` to scrape from the file."
   ]
  },
  {
   "cell_type": "code",
   "execution_count": 21,
   "id": "a3cd2ff1-5479-4948-9323-3efce2de3b61",
   "metadata": {},
   "outputs": [
    {
     "name": "stderr",
     "output_type": "stream",
     "text": [
      "Scraping through loacal files:   0%|          | 0/1 [00:00<?, ?file/s]\n",
      "Scraping in page: 100%|██████████| 5/5 [00:00<00:00, 683.78keyword/s]\n",
      "Scraping through loacal files: 100%|██████████| 1/1 [00:00<00:00, 99.72file/s]"
     ]
    },
    {
     "name": "stdout",
     "output_type": "stream",
     "text": [
      "Category: British people, Domain: nationalities\n",
      "  Sources: ['data/customized/local_files/uk/converted_document.txt']\n",
      "  Keyword 'uk' sentences: ['Cookies on GOV.UK  We use some essential cookies to make this website work.', 'We’d like to set additional cookies to understand how you use GOV.UK, remember your settings and improve government services.', 'Navigation menu  Services and information   Benefits   Births, death, marriages and care   Business and self-employed   Childcare and parenting   Citizenship and living in the UK   Crime, justice and the law   Disabled people   Driving and transport   Education and learning   Employing people   Environment and countryside   Housing and local services   Money and tax   Passports, travel and living abroad   Visas and immigration   Working, jobs and pensions  Government activity   Departments Departments, agencies and public bodies   News News stories, speeches, letters and notices   Guidance and regulation Detailed guidance, regulations and rules   Research and statistics Reports, analysis and official statistics   Policy papers and consultations Consultations and strategy   Transparency Data, Freedom of Information releases and corporate reports  Search   Home   Citizenship and living in the UK   British citizenship  Apply for citizenship if you were born in the UK  Printable version  1.', 'Who can apply  You may be eligible to apply to ‘register’ as a British citizen if you were born in the UK.', 'You were born on or after 1 January 1983  You may be eligible if either:   you’re under 18 and since your birth one of your parents became a British citizen, or got permission to stay in the UK permanently   you lived in the UK until you were 10 or older  When you do not need to apply  You’re usually automatically a British citizen if you were both:   born in the UK on or after 1 January 1983   born when one of your parents was a British citizen or ‘settled’ in the UK  You can apply for a UK passport instead, or ask for a letter confirming your citizenship (your ‘immigration status’).', 'You were born before 1983  You’re automatically a British citizen if you were born in the UK before 1 January 1983, unless:   your father was a diplomat working for a non-UK country   your father was ‘an enemy alien in occupation’ and you were born in the Channel Islands during World War 2  You can apply for a UK passport instead, or ask for a letter confirming your citizenship (your ‘immigration status’).', \"If you're under 18  You can register to become a British citizen if one of your parents considered the UK as their home and did any of the following after you were born:   became a British citizen   got indefinite leave to remain in the UK   got ‘settled status’ (also known as ‘indefinite leave to remain under the EU Settlement Scheme’)   got indefinite leave to enter the UK   got permanent residence status  You must have been born in the UK and be under 18 when you apply.\", 'You’ll be asked to make an appointment at a UK Visa and Citizenship Application Services (UKVCAS) service point to provide your biometric information (your fingerprints and a photo).', 'You can either:   upload copies into the online service   have them scanned at your UKVCAS appointment  You can also apply by post.', 'Get help to apply online  You can get help with completing the online form if you:   do not feel confident using a computer or mobile device   do not have internet access  You can only use this service if you’re applying in the UK.', 'If you lived in the UK until you were 10  If you lived in the UK until you were 10 you might automatically be a British citizen.', 'This can depend on if your parents were British citizens or ‘settled’ in the UK when you were born.  ‘Settled’ means you are living in the UK without any time restrictions.', 'You were born after 31 December 1982 and before 1 July 2006  You’re automatically a British citizen if, when you were born, either:   your mother was a British citizen or settled in the UK   your father was a British citizen or settled in the UK and was married to your mother  You can register to become a British citizen if, when you were born, either:   both of your parents were not British citizens or settled in the UK   your father was a British citizen or settled in the UK and was not married to your mother  You must not have spent more than 90 days outside the UK in each of the first 10 years of your life.', 'Explain on the form if there are special reasons that you spent more time outside the UK.', 'You were born on or after 1 July 2006  You’re automatically a British citizen if, when you were born, one of your parents was a British citizen or settled in the UK.', 'You can register to become a British citizen if, when you were born, neither of your parents were British citizens or settled in the UK.', 'You must not have spent more than 90 days outside the UK in each of the first 10 years of your life.', 'Explain on the form if there are special reasons that you spent more time outside the UK.', 'You’ll be asked to make an appointment at a UK Visa and Citizenship Application Services (UKVCAS) service point to provide your biometric information (your fingerprints and a photo).', 'You can either:   upload copies into the online service   have them scanned at your UKVCAS appointment  You can also apply by post.', 'Get help to apply online  You can get help with completing the online form if you:   do not feel confident using a computer or mobile device   do not have internet access  You can only use this service if you’re applying in the UK.', 'If your circumstances change  You should contact UK Visas and Immigration (part of the Home Office) if your situation changes during your application (for example, you move house, get married or are arrested).', 'Nationality contact centre    nationalityenquiries@homeoffice.gov.uk  You might be asked to attend an interview where you’ll need to speak without an interpreter.', 'Travelling to and from the UK  You can apply for a British passport if your application is successful.', 'Apply for a:   child’s passport if you’re under 16   adult passport if you’re 16 or over  Once you have a British passport you must use it to enter the UK.', 'You cannot enter the UK using your certificate of British citizenship.', 'Is this page useful?   Maybe   Yes this page is useful   No this page is not useful  Help us improve GOV.UK  Don’t include personal or financial information like your National Insurance number or credit card details.', 'Help us improve GOV.UK  To help us improve GOV.UK, we’d like to know more about your visit today.', 'Services and information   Benefits   Births, death, marriages and care   Business and self-employed   Childcare and parenting   Citizenship and living in the UK   Crime, justice and the law   Disabled people   Driving and transport   Education and learning   Employing people   Environment and countryside   Housing and local services   Money and tax   Passports, travel and living abroad   Visas and immigration   Working, jobs and pensions  Government activity   Departments   News   Guidance and regulation   Research and statistics   Policy papers and consultations   Transparency   How government works   Get involved  Support links   Help   Privacy   Cookies   Accessibility statement   Contact   Terms and conditions   Rhestr o Wasanaethau Cymraeg   Government Digital Service']\n",
      "  Keyword 'brit' sentences: ['Cookies on GOV.UK  We use some essential cookies to make this website work.', 'We’d like to set additional cookies to understand how you use GOV.UK, remember your settings and improve government services.', 'Navigation menu  Services and information   Benefits   Births, death, marriages and care   Business and self-employed   Childcare and parenting   Citizenship and living in the UK   Crime, justice and the law   Disabled people   Driving and transport   Education and learning   Employing people   Environment and countryside   Housing and local services   Money and tax   Passports, travel and living abroad   Visas and immigration   Working, jobs and pensions  Government activity   Departments Departments, agencies and public bodies   News News stories, speeches, letters and notices   Guidance and regulation Detailed guidance, regulations and rules   Research and statistics Reports, analysis and official statistics   Policy papers and consultations Consultations and strategy   Transparency Data, Freedom of Information releases and corporate reports  Search   Home   Citizenship and living in the UK   British citizenship  Apply for citizenship if you were born in the UK  Printable version  1.', 'Who can apply  You may be eligible to apply to ‘register’ as a British citizen if you were born in the UK.', 'You were born on or after 1 January 1983  You may be eligible if either:   you’re under 18 and since your birth one of your parents became a British citizen, or got permission to stay in the UK permanently   you lived in the UK until you were 10 or older  When you do not need to apply  You’re usually automatically a British citizen if you were both:   born in the UK on or after 1 January 1983   born when one of your parents was a British citizen or ‘settled’ in the UK  You can apply for a UK passport instead, or ask for a letter confirming your citizenship (your ‘immigration status’).', 'You were born before 1983  You’re automatically a British citizen if you were born in the UK before 1 January 1983, unless:   your father was a diplomat working for a non-UK country   your father was ‘an enemy alien in occupation’ and you were born in the Channel Islands during World War 2  You can apply for a UK passport instead, or ask for a letter confirming your citizenship (your ‘immigration status’).', \"If you're under 18  You can register to become a British citizen if one of your parents considered the UK as their home and did any of the following after you were born:   became a British citizen   got indefinite leave to remain in the UK   got ‘settled status’ (also known as ‘indefinite leave to remain under the EU Settlement Scheme’)   got indefinite leave to enter the UK   got permanent residence status  You must have been born in the UK and be under 18 when you apply.\", 'You’ll be asked to make an appointment at a UK Visa and Citizenship Application Services (UKVCAS) service point to provide your biometric information (your fingerprints and a photo).', 'You can either:   upload copies into the online service   have them scanned at your UKVCAS appointment  You can also apply by post.', 'Get help to apply online  You can get help with completing the online form if you:   do not feel confident using a computer or mobile device   do not have internet access  You can only use this service if you’re applying in the UK.', 'If you lived in the UK until you were 10  If you lived in the UK until you were 10 you might automatically be a British citizen.', 'This can depend on if your parents were British citizens or ‘settled’ in the UK when you were born.  ‘Settled’ means you are living in the UK without any time restrictions.', 'You were born after 31 December 1982 and before 1 July 2006  You’re automatically a British citizen if, when you were born, either:   your mother was a British citizen or settled in the UK   your father was a British citizen or settled in the UK and was married to your mother  You can register to become a British citizen if, when you were born, either:   both of your parents were not British citizens or settled in the UK   your father was a British citizen or settled in the UK and was not married to your mother  You must not have spent more than 90 days outside the UK in each of the first 10 years of your life.', 'Explain on the form if there are special reasons that you spent more time outside the UK.', 'You were born on or after 1 July 2006  You’re automatically a British citizen if, when you were born, one of your parents was a British citizen or settled in the UK.', 'You can register to become a British citizen if, when you were born, neither of your parents were British citizens or settled in the UK.', 'You must not have spent more than 90 days outside the UK in each of the first 10 years of your life.', 'Explain on the form if there are special reasons that you spent more time outside the UK.', 'You’ll be asked to make an appointment at a UK Visa and Citizenship Application Services (UKVCAS) service point to provide your biometric information (your fingerprints and a photo).', 'You can either:   upload copies into the online service   have them scanned at your UKVCAS appointment  You can also apply by post.', 'Get help to apply online  You can get help with completing the online form if you:   do not feel confident using a computer or mobile device   do not have internet access  You can only use this service if you’re applying in the UK.', 'If your circumstances change  You should contact UK Visas and Immigration (part of the Home Office) if your situation changes during your application (for example, you move house, get married or are arrested).', 'Nationality contact centre    nationalityenquiries@homeoffice.gov.uk  You might be asked to attend an interview where you’ll need to speak without an interpreter.', 'Travelling to and from the UK  You can apply for a British passport if your application is successful.', 'Apply for a:   child’s passport if you’re under 16   adult passport if you’re 16 or over  Once you have a British passport you must use it to enter the UK.', 'You cannot enter the UK using your certificate of British citizenship.', 'Is this page useful?   Maybe   Yes this page is useful   No this page is not useful  Help us improve GOV.UK  Don’t include personal or financial information like your National Insurance number or credit card details.', 'Help us improve GOV.UK  To help us improve GOV.UK, we’d like to know more about your visit today.', 'Services and information   Benefits   Births, death, marriages and care   Business and self-employed   Childcare and parenting   Citizenship and living in the UK   Crime, justice and the law   Disabled people   Driving and transport   Education and learning   Employing people   Environment and countryside   Housing and local services   Money and tax   Passports, travel and living abroad   Visas and immigration   Working, jobs and pensions  Government activity   Departments   News   Guidance and regulation   Research and statistics   Policy papers and consultations   Transparency   How government works   Get involved  Support links   Help   Privacy   Cookies   Accessibility statement   Contact   Terms and conditions   Rhestr o Wasanaethau Cymraeg   Government Digital Service', 'Navigation menu  Services and information   Benefits   Births, death, marriages and care   Business and self-employed   Childcare and parenting   Citizenship and living in the UK   Crime, justice and the law   Disabled people   Driving and transport   Education and learning   Employing people   Environment and countryside   Housing and local services   Money and tax   Passports, travel and living abroad   Visas and immigration   Working, jobs and pensions  Government activity   Departments Departments, agencies and public bodies   News News stories, speeches, letters and notices   Guidance and regulation Detailed guidance, regulations and rules   Research and statistics Reports, analysis and official statistics   Policy papers and consultations Consultations and strategy   Transparency Data, Freedom of Information releases and corporate reports  Search   Home   Citizenship and living in the UK   British citizenship  Apply for citizenship if you were born in the UK  Printable version  1.', 'Who can apply  You may be eligible to apply to ‘register’ as a British citizen if you were born in the UK.', 'This is one way to apply for British citizenship.', 'You were born on or after 1 January 1983  You may be eligible if either:   you’re under 18 and since your birth one of your parents became a British citizen, or got permission to stay in the UK permanently   you lived in the UK until you were 10 or older  When you do not need to apply  You’re usually automatically a British citizen if you were both:   born in the UK on or after 1 January 1983   born when one of your parents was a British citizen or ‘settled’ in the UK  You can apply for a UK passport instead, or ask for a letter confirming your citizenship (your ‘immigration status’).', 'If you live in the Channel Islands, the Isle of Man or a British overseas territory, there’s a different way to get a letter confirming your citizenship.', 'You were born before 1983  You’re automatically a British citizen if you were born in the UK before 1 January 1983, unless:   your father was a diplomat working for a non-UK country   your father was ‘an enemy alien in occupation’ and you were born in the Channel Islands during World War 2  You can apply for a UK passport instead, or ask for a letter confirming your citizenship (your ‘immigration status’).', 'If you live in the Channel Islands, the Isle of Man or a British overseas territory, there’s a different way to get a letter confirming your citizenship.  2.', \"If you're under 18  You can register to become a British citizen if one of your parents considered the UK as their home and did any of the following after you were born:   became a British citizen   got indefinite leave to remain in the UK   got ‘settled status’ (also known as ‘indefinite leave to remain under the EU Settlement Scheme’)   got indefinite leave to enter the UK   got permanent residence status  You must have been born in the UK and be under 18 when you apply.\", 'If you’re applying from the Channel Islands, the Isle of Man or a British overseas territory  If you live in the Channel Islands, the Isle of Man or a British overseas territory, you have to apply in person or by post instead.', 'If you lived in the UK until you were 10  If you lived in the UK until you were 10 you might automatically be a British citizen.', 'This can depend on if your parents were British citizens or ‘settled’ in the UK when you were born.  ‘Settled’ means you are living in the UK without any time restrictions.', 'This includes people who have one of the following:   ‘indefinite leave to remain’   ‘settled status’ (also known as ‘indefinite leave to remain under the EU Settlement Scheme’)   permanent residence status   ‘right of abode’  If you’re not automatically a British citizen, you might be able to register to become one.', 'You were born after 31 December 1982 and before 1 July 2006  You’re automatically a British citizen if, when you were born, either:   your mother was a British citizen or settled in the UK   your father was a British citizen or settled in the UK and was married to your mother  You can register to become a British citizen if, when you were born, either:   both of your parents were not British citizens or settled in the UK   your father was a British citizen or settled in the UK and was not married to your mother  You must not have spent more than 90 days outside the UK in each of the first 10 years of your life.', 'You were born on or after 1 July 2006  You’re automatically a British citizen if, when you were born, one of your parents was a British citizen or settled in the UK.', 'You can register to become a British citizen if, when you were born, neither of your parents were British citizens or settled in the UK.', 'If you’re applying from the Channel Islands, the Isle of Man or a British overseas territory  If you live in the Channel Islands, the Isle of Man or a British overseas territory, you have to apply in person or by post instead.', 'Travelling to and from the UK  You can apply for a British passport if your application is successful.', 'Apply for a:   child’s passport if you’re under 16   adult passport if you’re 16 or over  Once you have a British passport you must use it to enter the UK.', 'If you do not want a British passport you can apply for a certificate of entitlement instead.', 'You cannot enter the UK using your certificate of British citizenship.']\n",
      "  Keyword 'england' sentences: ['Cookies on GOV.UK  We use some essential cookies to make this website work.', 'We’d like to set additional cookies to understand how you use GOV.UK, remember your settings and improve government services.', 'Navigation menu  Services and information   Benefits   Births, death, marriages and care   Business and self-employed   Childcare and parenting   Citizenship and living in the UK   Crime, justice and the law   Disabled people   Driving and transport   Education and learning   Employing people   Environment and countryside   Housing and local services   Money and tax   Passports, travel and living abroad   Visas and immigration   Working, jobs and pensions  Government activity   Departments Departments, agencies and public bodies   News News stories, speeches, letters and notices   Guidance and regulation Detailed guidance, regulations and rules   Research and statistics Reports, analysis and official statistics   Policy papers and consultations Consultations and strategy   Transparency Data, Freedom of Information releases and corporate reports  Search   Home   Citizenship and living in the UK   British citizenship  Apply for citizenship if you were born in the UK  Printable version  1.', 'Who can apply  You may be eligible to apply to ‘register’ as a British citizen if you were born in the UK.', 'You were born on or after 1 January 1983  You may be eligible if either:   you’re under 18 and since your birth one of your parents became a British citizen, or got permission to stay in the UK permanently   you lived in the UK until you were 10 or older  When you do not need to apply  You’re usually automatically a British citizen if you were both:   born in the UK on or after 1 January 1983   born when one of your parents was a British citizen or ‘settled’ in the UK  You can apply for a UK passport instead, or ask for a letter confirming your citizenship (your ‘immigration status’).', 'You were born before 1983  You’re automatically a British citizen if you were born in the UK before 1 January 1983, unless:   your father was a diplomat working for a non-UK country   your father was ‘an enemy alien in occupation’ and you were born in the Channel Islands during World War 2  You can apply for a UK passport instead, or ask for a letter confirming your citizenship (your ‘immigration status’).', \"If you're under 18  You can register to become a British citizen if one of your parents considered the UK as their home and did any of the following after you were born:   became a British citizen   got indefinite leave to remain in the UK   got ‘settled status’ (also known as ‘indefinite leave to remain under the EU Settlement Scheme’)   got indefinite leave to enter the UK   got permanent residence status  You must have been born in the UK and be under 18 when you apply.\", 'You’ll be asked to make an appointment at a UK Visa and Citizenship Application Services (UKVCAS) service point to provide your biometric information (your fingerprints and a photo).', 'You can either:   upload copies into the online service   have them scanned at your UKVCAS appointment  You can also apply by post.', 'Get help to apply online  You can get help with completing the online form if you:   do not feel confident using a computer or mobile device   do not have internet access  You can only use this service if you’re applying in the UK.', 'If you lived in the UK until you were 10  If you lived in the UK until you were 10 you might automatically be a British citizen.', 'This can depend on if your parents were British citizens or ‘settled’ in the UK when you were born.  ‘Settled’ means you are living in the UK without any time restrictions.', 'You were born after 31 December 1982 and before 1 July 2006  You’re automatically a British citizen if, when you were born, either:   your mother was a British citizen or settled in the UK   your father was a British citizen or settled in the UK and was married to your mother  You can register to become a British citizen if, when you were born, either:   both of your parents were not British citizens or settled in the UK   your father was a British citizen or settled in the UK and was not married to your mother  You must not have spent more than 90 days outside the UK in each of the first 10 years of your life.', 'Explain on the form if there are special reasons that you spent more time outside the UK.', 'You were born on or after 1 July 2006  You’re automatically a British citizen if, when you were born, one of your parents was a British citizen or settled in the UK.', 'You can register to become a British citizen if, when you were born, neither of your parents were British citizens or settled in the UK.', 'You must not have spent more than 90 days outside the UK in each of the first 10 years of your life.', 'Explain on the form if there are special reasons that you spent more time outside the UK.', 'You’ll be asked to make an appointment at a UK Visa and Citizenship Application Services (UKVCAS) service point to provide your biometric information (your fingerprints and a photo).', 'You can either:   upload copies into the online service   have them scanned at your UKVCAS appointment  You can also apply by post.', 'Get help to apply online  You can get help with completing the online form if you:   do not feel confident using a computer or mobile device   do not have internet access  You can only use this service if you’re applying in the UK.', 'If your circumstances change  You should contact UK Visas and Immigration (part of the Home Office) if your situation changes during your application (for example, you move house, get married or are arrested).', 'Nationality contact centre    nationalityenquiries@homeoffice.gov.uk  You might be asked to attend an interview where you’ll need to speak without an interpreter.', 'Travelling to and from the UK  You can apply for a British passport if your application is successful.', 'Apply for a:   child’s passport if you’re under 16   adult passport if you’re 16 or over  Once you have a British passport you must use it to enter the UK.', 'You cannot enter the UK using your certificate of British citizenship.', 'Is this page useful?   Maybe   Yes this page is useful   No this page is not useful  Help us improve GOV.UK  Don’t include personal or financial information like your National Insurance number or credit card details.', 'Help us improve GOV.UK  To help us improve GOV.UK, we’d like to know more about your visit today.', 'Services and information   Benefits   Births, death, marriages and care   Business and self-employed   Childcare and parenting   Citizenship and living in the UK   Crime, justice and the law   Disabled people   Driving and transport   Education and learning   Employing people   Environment and countryside   Housing and local services   Money and tax   Passports, travel and living abroad   Visas and immigration   Working, jobs and pensions  Government activity   Departments   News   Guidance and regulation   Research and statistics   Policy papers and consultations   Transparency   How government works   Get involved  Support links   Help   Privacy   Cookies   Accessibility statement   Contact   Terms and conditions   Rhestr o Wasanaethau Cymraeg   Government Digital Service', 'Navigation menu  Services and information   Benefits   Births, death, marriages and care   Business and self-employed   Childcare and parenting   Citizenship and living in the UK   Crime, justice and the law   Disabled people   Driving and transport   Education and learning   Employing people   Environment and countryside   Housing and local services   Money and tax   Passports, travel and living abroad   Visas and immigration   Working, jobs and pensions  Government activity   Departments Departments, agencies and public bodies   News News stories, speeches, letters and notices   Guidance and regulation Detailed guidance, regulations and rules   Research and statistics Reports, analysis and official statistics   Policy papers and consultations Consultations and strategy   Transparency Data, Freedom of Information releases and corporate reports  Search   Home   Citizenship and living in the UK   British citizenship  Apply for citizenship if you were born in the UK  Printable version  1.', 'Who can apply  You may be eligible to apply to ‘register’ as a British citizen if you were born in the UK.', 'This is one way to apply for British citizenship.', 'You were born on or after 1 January 1983  You may be eligible if either:   you’re under 18 and since your birth one of your parents became a British citizen, or got permission to stay in the UK permanently   you lived in the UK until you were 10 or older  When you do not need to apply  You’re usually automatically a British citizen if you were both:   born in the UK on or after 1 January 1983   born when one of your parents was a British citizen or ‘settled’ in the UK  You can apply for a UK passport instead, or ask for a letter confirming your citizenship (your ‘immigration status’).', 'If you live in the Channel Islands, the Isle of Man or a British overseas territory, there’s a different way to get a letter confirming your citizenship.', 'You were born before 1983  You’re automatically a British citizen if you were born in the UK before 1 January 1983, unless:   your father was a diplomat working for a non-UK country   your father was ‘an enemy alien in occupation’ and you were born in the Channel Islands during World War 2  You can apply for a UK passport instead, or ask for a letter confirming your citizenship (your ‘immigration status’).', 'If you live in the Channel Islands, the Isle of Man or a British overseas territory, there’s a different way to get a letter confirming your citizenship.  2.', \"If you're under 18  You can register to become a British citizen if one of your parents considered the UK as their home and did any of the following after you were born:   became a British citizen   got indefinite leave to remain in the UK   got ‘settled status’ (also known as ‘indefinite leave to remain under the EU Settlement Scheme’)   got indefinite leave to enter the UK   got permanent residence status  You must have been born in the UK and be under 18 when you apply.\", 'If you’re applying from the Channel Islands, the Isle of Man or a British overseas territory  If you live in the Channel Islands, the Isle of Man or a British overseas territory, you have to apply in person or by post instead.', 'If you lived in the UK until you were 10  If you lived in the UK until you were 10 you might automatically be a British citizen.', 'This can depend on if your parents were British citizens or ‘settled’ in the UK when you were born.  ‘Settled’ means you are living in the UK without any time restrictions.', 'This includes people who have one of the following:   ‘indefinite leave to remain’   ‘settled status’ (also known as ‘indefinite leave to remain under the EU Settlement Scheme’)   permanent residence status   ‘right of abode’  If you’re not automatically a British citizen, you might be able to register to become one.', 'You were born after 31 December 1982 and before 1 July 2006  You’re automatically a British citizen if, when you were born, either:   your mother was a British citizen or settled in the UK   your father was a British citizen or settled in the UK and was married to your mother  You can register to become a British citizen if, when you were born, either:   both of your parents were not British citizens or settled in the UK   your father was a British citizen or settled in the UK and was not married to your mother  You must not have spent more than 90 days outside the UK in each of the first 10 years of your life.', 'You were born on or after 1 July 2006  You’re automatically a British citizen if, when you were born, one of your parents was a British citizen or settled in the UK.', 'You can register to become a British citizen if, when you were born, neither of your parents were British citizens or settled in the UK.', 'If you’re applying from the Channel Islands, the Isle of Man or a British overseas territory  If you live in the Channel Islands, the Isle of Man or a British overseas territory, you have to apply in person or by post instead.', 'Travelling to and from the UK  You can apply for a British passport if your application is successful.', 'Apply for a:   child’s passport if you’re under 16   adult passport if you’re 16 or over  Once you have a British passport you must use it to enter the UK.', 'If you do not want a British passport you can apply for a certificate of entitlement instead.', 'You cannot enter the UK using your certificate of British citizenship.']\n",
      "  Keyword 'yorkshire' sentences: ['Cookies on GOV.UK  We use some essential cookies to make this website work.', 'We’d like to set additional cookies to understand how you use GOV.UK, remember your settings and improve government services.', 'Navigation menu  Services and information   Benefits   Births, death, marriages and care   Business and self-employed   Childcare and parenting   Citizenship and living in the UK   Crime, justice and the law   Disabled people   Driving and transport   Education and learning   Employing people   Environment and countryside   Housing and local services   Money and tax   Passports, travel and living abroad   Visas and immigration   Working, jobs and pensions  Government activity   Departments Departments, agencies and public bodies   News News stories, speeches, letters and notices   Guidance and regulation Detailed guidance, regulations and rules   Research and statistics Reports, analysis and official statistics   Policy papers and consultations Consultations and strategy   Transparency Data, Freedom of Information releases and corporate reports  Search   Home   Citizenship and living in the UK   British citizenship  Apply for citizenship if you were born in the UK  Printable version  1.', 'Who can apply  You may be eligible to apply to ‘register’ as a British citizen if you were born in the UK.', 'You were born on or after 1 January 1983  You may be eligible if either:   you’re under 18 and since your birth one of your parents became a British citizen, or got permission to stay in the UK permanently   you lived in the UK until you were 10 or older  When you do not need to apply  You’re usually automatically a British citizen if you were both:   born in the UK on or after 1 January 1983   born when one of your parents was a British citizen or ‘settled’ in the UK  You can apply for a UK passport instead, or ask for a letter confirming your citizenship (your ‘immigration status’).', 'You were born before 1983  You’re automatically a British citizen if you were born in the UK before 1 January 1983, unless:   your father was a diplomat working for a non-UK country   your father was ‘an enemy alien in occupation’ and you were born in the Channel Islands during World War 2  You can apply for a UK passport instead, or ask for a letter confirming your citizenship (your ‘immigration status’).', \"If you're under 18  You can register to become a British citizen if one of your parents considered the UK as their home and did any of the following after you were born:   became a British citizen   got indefinite leave to remain in the UK   got ‘settled status’ (also known as ‘indefinite leave to remain under the EU Settlement Scheme’)   got indefinite leave to enter the UK   got permanent residence status  You must have been born in the UK and be under 18 when you apply.\", 'You’ll be asked to make an appointment at a UK Visa and Citizenship Application Services (UKVCAS) service point to provide your biometric information (your fingerprints and a photo).', 'You can either:   upload copies into the online service   have them scanned at your UKVCAS appointment  You can also apply by post.', 'Get help to apply online  You can get help with completing the online form if you:   do not feel confident using a computer or mobile device   do not have internet access  You can only use this service if you’re applying in the UK.', 'If you lived in the UK until you were 10  If you lived in the UK until you were 10 you might automatically be a British citizen.', 'This can depend on if your parents were British citizens or ‘settled’ in the UK when you were born.  ‘Settled’ means you are living in the UK without any time restrictions.', 'You were born after 31 December 1982 and before 1 July 2006  You’re automatically a British citizen if, when you were born, either:   your mother was a British citizen or settled in the UK   your father was a British citizen or settled in the UK and was married to your mother  You can register to become a British citizen if, when you were born, either:   both of your parents were not British citizens or settled in the UK   your father was a British citizen or settled in the UK and was not married to your mother  You must not have spent more than 90 days outside the UK in each of the first 10 years of your life.', 'Explain on the form if there are special reasons that you spent more time outside the UK.', 'You were born on or after 1 July 2006  You’re automatically a British citizen if, when you were born, one of your parents was a British citizen or settled in the UK.', 'You can register to become a British citizen if, when you were born, neither of your parents were British citizens or settled in the UK.', 'You must not have spent more than 90 days outside the UK in each of the first 10 years of your life.', 'Explain on the form if there are special reasons that you spent more time outside the UK.', 'You’ll be asked to make an appointment at a UK Visa and Citizenship Application Services (UKVCAS) service point to provide your biometric information (your fingerprints and a photo).', 'You can either:   upload copies into the online service   have them scanned at your UKVCAS appointment  You can also apply by post.', 'Get help to apply online  You can get help with completing the online form if you:   do not feel confident using a computer or mobile device   do not have internet access  You can only use this service if you’re applying in the UK.', 'If your circumstances change  You should contact UK Visas and Immigration (part of the Home Office) if your situation changes during your application (for example, you move house, get married or are arrested).', 'Nationality contact centre    nationalityenquiries@homeoffice.gov.uk  You might be asked to attend an interview where you’ll need to speak without an interpreter.', 'Travelling to and from the UK  You can apply for a British passport if your application is successful.', 'Apply for a:   child’s passport if you’re under 16   adult passport if you’re 16 or over  Once you have a British passport you must use it to enter the UK.', 'You cannot enter the UK using your certificate of British citizenship.', 'Is this page useful?   Maybe   Yes this page is useful   No this page is not useful  Help us improve GOV.UK  Don’t include personal or financial information like your National Insurance number or credit card details.', 'Help us improve GOV.UK  To help us improve GOV.UK, we’d like to know more about your visit today.', 'Services and information   Benefits   Births, death, marriages and care   Business and self-employed   Childcare and parenting   Citizenship and living in the UK   Crime, justice and the law   Disabled people   Driving and transport   Education and learning   Employing people   Environment and countryside   Housing and local services   Money and tax   Passports, travel and living abroad   Visas and immigration   Working, jobs and pensions  Government activity   Departments   News   Guidance and regulation   Research and statistics   Policy papers and consultations   Transparency   How government works   Get involved  Support links   Help   Privacy   Cookies   Accessibility statement   Contact   Terms and conditions   Rhestr o Wasanaethau Cymraeg   Government Digital Service', 'Navigation menu  Services and information   Benefits   Births, death, marriages and care   Business and self-employed   Childcare and parenting   Citizenship and living in the UK   Crime, justice and the law   Disabled people   Driving and transport   Education and learning   Employing people   Environment and countryside   Housing and local services   Money and tax   Passports, travel and living abroad   Visas and immigration   Working, jobs and pensions  Government activity   Departments Departments, agencies and public bodies   News News stories, speeches, letters and notices   Guidance and regulation Detailed guidance, regulations and rules   Research and statistics Reports, analysis and official statistics   Policy papers and consultations Consultations and strategy   Transparency Data, Freedom of Information releases and corporate reports  Search   Home   Citizenship and living in the UK   British citizenship  Apply for citizenship if you were born in the UK  Printable version  1.', 'Who can apply  You may be eligible to apply to ‘register’ as a British citizen if you were born in the UK.', 'This is one way to apply for British citizenship.', 'You were born on or after 1 January 1983  You may be eligible if either:   you’re under 18 and since your birth one of your parents became a British citizen, or got permission to stay in the UK permanently   you lived in the UK until you were 10 or older  When you do not need to apply  You’re usually automatically a British citizen if you were both:   born in the UK on or after 1 January 1983   born when one of your parents was a British citizen or ‘settled’ in the UK  You can apply for a UK passport instead, or ask for a letter confirming your citizenship (your ‘immigration status’).', 'If you live in the Channel Islands, the Isle of Man or a British overseas territory, there’s a different way to get a letter confirming your citizenship.', 'You were born before 1983  You’re automatically a British citizen if you were born in the UK before 1 January 1983, unless:   your father was a diplomat working for a non-UK country   your father was ‘an enemy alien in occupation’ and you were born in the Channel Islands during World War 2  You can apply for a UK passport instead, or ask for a letter confirming your citizenship (your ‘immigration status’).', 'If you live in the Channel Islands, the Isle of Man or a British overseas territory, there’s a different way to get a letter confirming your citizenship.  2.', \"If you're under 18  You can register to become a British citizen if one of your parents considered the UK as their home and did any of the following after you were born:   became a British citizen   got indefinite leave to remain in the UK   got ‘settled status’ (also known as ‘indefinite leave to remain under the EU Settlement Scheme’)   got indefinite leave to enter the UK   got permanent residence status  You must have been born in the UK and be under 18 when you apply.\", 'If you’re applying from the Channel Islands, the Isle of Man or a British overseas territory  If you live in the Channel Islands, the Isle of Man or a British overseas territory, you have to apply in person or by post instead.', 'If you lived in the UK until you were 10  If you lived in the UK until you were 10 you might automatically be a British citizen.', 'This can depend on if your parents were British citizens or ‘settled’ in the UK when you were born.  ‘Settled’ means you are living in the UK without any time restrictions.', 'This includes people who have one of the following:   ‘indefinite leave to remain’   ‘settled status’ (also known as ‘indefinite leave to remain under the EU Settlement Scheme’)   permanent residence status   ‘right of abode’  If you’re not automatically a British citizen, you might be able to register to become one.', 'You were born after 31 December 1982 and before 1 July 2006  You’re automatically a British citizen if, when you were born, either:   your mother was a British citizen or settled in the UK   your father was a British citizen or settled in the UK and was married to your mother  You can register to become a British citizen if, when you were born, either:   both of your parents were not British citizens or settled in the UK   your father was a British citizen or settled in the UK and was not married to your mother  You must not have spent more than 90 days outside the UK in each of the first 10 years of your life.', 'You were born on or after 1 July 2006  You’re automatically a British citizen if, when you were born, one of your parents was a British citizen or settled in the UK.', 'You can register to become a British citizen if, when you were born, neither of your parents were British citizens or settled in the UK.', 'If you’re applying from the Channel Islands, the Isle of Man or a British overseas territory  If you live in the Channel Islands, the Isle of Man or a British overseas territory, you have to apply in person or by post instead.', 'Travelling to and from the UK  You can apply for a British passport if your application is successful.', 'Apply for a:   child’s passport if you’re under 16   adult passport if you’re 16 or over  Once you have a British passport you must use it to enter the UK.', 'If you do not want a British passport you can apply for a certificate of entitlement instead.', 'You cannot enter the UK using your certificate of British citizenship.']\n",
      "  Keyword 'people' sentences: ['Cookies on GOV.UK  We use some essential cookies to make this website work.', 'We’d like to set additional cookies to understand how you use GOV.UK, remember your settings and improve government services.', 'Navigation menu  Services and information   Benefits   Births, death, marriages and care   Business and self-employed   Childcare and parenting   Citizenship and living in the UK   Crime, justice and the law   Disabled people   Driving and transport   Education and learning   Employing people   Environment and countryside   Housing and local services   Money and tax   Passports, travel and living abroad   Visas and immigration   Working, jobs and pensions  Government activity   Departments Departments, agencies and public bodies   News News stories, speeches, letters and notices   Guidance and regulation Detailed guidance, regulations and rules   Research and statistics Reports, analysis and official statistics   Policy papers and consultations Consultations and strategy   Transparency Data, Freedom of Information releases and corporate reports  Search   Home   Citizenship and living in the UK   British citizenship  Apply for citizenship if you were born in the UK  Printable version  1.', 'Who can apply  You may be eligible to apply to ‘register’ as a British citizen if you were born in the UK.', 'You were born on or after 1 January 1983  You may be eligible if either:   you’re under 18 and since your birth one of your parents became a British citizen, or got permission to stay in the UK permanently   you lived in the UK until you were 10 or older  When you do not need to apply  You’re usually automatically a British citizen if you were both:   born in the UK on or after 1 January 1983   born when one of your parents was a British citizen or ‘settled’ in the UK  You can apply for a UK passport instead, or ask for a letter confirming your citizenship (your ‘immigration status’).', 'You were born before 1983  You’re automatically a British citizen if you were born in the UK before 1 January 1983, unless:   your father was a diplomat working for a non-UK country   your father was ‘an enemy alien in occupation’ and you were born in the Channel Islands during World War 2  You can apply for a UK passport instead, or ask for a letter confirming your citizenship (your ‘immigration status’).', \"If you're under 18  You can register to become a British citizen if one of your parents considered the UK as their home and did any of the following after you were born:   became a British citizen   got indefinite leave to remain in the UK   got ‘settled status’ (also known as ‘indefinite leave to remain under the EU Settlement Scheme’)   got indefinite leave to enter the UK   got permanent residence status  You must have been born in the UK and be under 18 when you apply.\", 'You’ll be asked to make an appointment at a UK Visa and Citizenship Application Services (UKVCAS) service point to provide your biometric information (your fingerprints and a photo).', 'You can either:   upload copies into the online service   have them scanned at your UKVCAS appointment  You can also apply by post.', 'Get help to apply online  You can get help with completing the online form if you:   do not feel confident using a computer or mobile device   do not have internet access  You can only use this service if you’re applying in the UK.', 'If you lived in the UK until you were 10  If you lived in the UK until you were 10 you might automatically be a British citizen.', 'This can depend on if your parents were British citizens or ‘settled’ in the UK when you were born.  ‘Settled’ means you are living in the UK without any time restrictions.', 'You were born after 31 December 1982 and before 1 July 2006  You’re automatically a British citizen if, when you were born, either:   your mother was a British citizen or settled in the UK   your father was a British citizen or settled in the UK and was married to your mother  You can register to become a British citizen if, when you were born, either:   both of your parents were not British citizens or settled in the UK   your father was a British citizen or settled in the UK and was not married to your mother  You must not have spent more than 90 days outside the UK in each of the first 10 years of your life.', 'Explain on the form if there are special reasons that you spent more time outside the UK.', 'You were born on or after 1 July 2006  You’re automatically a British citizen if, when you were born, one of your parents was a British citizen or settled in the UK.', 'You can register to become a British citizen if, when you were born, neither of your parents were British citizens or settled in the UK.', 'You must not have spent more than 90 days outside the UK in each of the first 10 years of your life.', 'Explain on the form if there are special reasons that you spent more time outside the UK.', 'You’ll be asked to make an appointment at a UK Visa and Citizenship Application Services (UKVCAS) service point to provide your biometric information (your fingerprints and a photo).', 'You can either:   upload copies into the online service   have them scanned at your UKVCAS appointment  You can also apply by post.', 'Get help to apply online  You can get help with completing the online form if you:   do not feel confident using a computer or mobile device   do not have internet access  You can only use this service if you’re applying in the UK.', 'If your circumstances change  You should contact UK Visas and Immigration (part of the Home Office) if your situation changes during your application (for example, you move house, get married or are arrested).', 'Nationality contact centre    nationalityenquiries@homeoffice.gov.uk  You might be asked to attend an interview where you’ll need to speak without an interpreter.', 'Travelling to and from the UK  You can apply for a British passport if your application is successful.', 'Apply for a:   child’s passport if you’re under 16   adult passport if you’re 16 or over  Once you have a British passport you must use it to enter the UK.', 'You cannot enter the UK using your certificate of British citizenship.', 'Is this page useful?   Maybe   Yes this page is useful   No this page is not useful  Help us improve GOV.UK  Don’t include personal or financial information like your National Insurance number or credit card details.', 'Help us improve GOV.UK  To help us improve GOV.UK, we’d like to know more about your visit today.', 'Services and information   Benefits   Births, death, marriages and care   Business and self-employed   Childcare and parenting   Citizenship and living in the UK   Crime, justice and the law   Disabled people   Driving and transport   Education and learning   Employing people   Environment and countryside   Housing and local services   Money and tax   Passports, travel and living abroad   Visas and immigration   Working, jobs and pensions  Government activity   Departments   News   Guidance and regulation   Research and statistics   Policy papers and consultations   Transparency   How government works   Get involved  Support links   Help   Privacy   Cookies   Accessibility statement   Contact   Terms and conditions   Rhestr o Wasanaethau Cymraeg   Government Digital Service', 'Navigation menu  Services and information   Benefits   Births, death, marriages and care   Business and self-employed   Childcare and parenting   Citizenship and living in the UK   Crime, justice and the law   Disabled people   Driving and transport   Education and learning   Employing people   Environment and countryside   Housing and local services   Money and tax   Passports, travel and living abroad   Visas and immigration   Working, jobs and pensions  Government activity   Departments Departments, agencies and public bodies   News News stories, speeches, letters and notices   Guidance and regulation Detailed guidance, regulations and rules   Research and statistics Reports, analysis and official statistics   Policy papers and consultations Consultations and strategy   Transparency Data, Freedom of Information releases and corporate reports  Search   Home   Citizenship and living in the UK   British citizenship  Apply for citizenship if you were born in the UK  Printable version  1.', 'Who can apply  You may be eligible to apply to ‘register’ as a British citizen if you were born in the UK.', 'This is one way to apply for British citizenship.', 'You were born on or after 1 January 1983  You may be eligible if either:   you’re under 18 and since your birth one of your parents became a British citizen, or got permission to stay in the UK permanently   you lived in the UK until you were 10 or older  When you do not need to apply  You’re usually automatically a British citizen if you were both:   born in the UK on or after 1 January 1983   born when one of your parents was a British citizen or ‘settled’ in the UK  You can apply for a UK passport instead, or ask for a letter confirming your citizenship (your ‘immigration status’).', 'If you live in the Channel Islands, the Isle of Man or a British overseas territory, there’s a different way to get a letter confirming your citizenship.', 'You were born before 1983  You’re automatically a British citizen if you were born in the UK before 1 January 1983, unless:   your father was a diplomat working for a non-UK country   your father was ‘an enemy alien in occupation’ and you were born in the Channel Islands during World War 2  You can apply for a UK passport instead, or ask for a letter confirming your citizenship (your ‘immigration status’).', 'If you live in the Channel Islands, the Isle of Man or a British overseas territory, there’s a different way to get a letter confirming your citizenship.  2.', \"If you're under 18  You can register to become a British citizen if one of your parents considered the UK as their home and did any of the following after you were born:   became a British citizen   got indefinite leave to remain in the UK   got ‘settled status’ (also known as ‘indefinite leave to remain under the EU Settlement Scheme’)   got indefinite leave to enter the UK   got permanent residence status  You must have been born in the UK and be under 18 when you apply.\", 'If you’re applying from the Channel Islands, the Isle of Man or a British overseas territory  If you live in the Channel Islands, the Isle of Man or a British overseas territory, you have to apply in person or by post instead.', 'If you lived in the UK until you were 10  If you lived in the UK until you were 10 you might automatically be a British citizen.', 'This can depend on if your parents were British citizens or ‘settled’ in the UK when you were born.  ‘Settled’ means you are living in the UK without any time restrictions.', 'This includes people who have one of the following:   ‘indefinite leave to remain’   ‘settled status’ (also known as ‘indefinite leave to remain under the EU Settlement Scheme’)   permanent residence status   ‘right of abode’  If you’re not automatically a British citizen, you might be able to register to become one.', 'You were born after 31 December 1982 and before 1 July 2006  You’re automatically a British citizen if, when you were born, either:   your mother was a British citizen or settled in the UK   your father was a British citizen or settled in the UK and was married to your mother  You can register to become a British citizen if, when you were born, either:   both of your parents were not British citizens or settled in the UK   your father was a British citizen or settled in the UK and was not married to your mother  You must not have spent more than 90 days outside the UK in each of the first 10 years of your life.', 'You were born on or after 1 July 2006  You’re automatically a British citizen if, when you were born, one of your parents was a British citizen or settled in the UK.', 'You can register to become a British citizen if, when you were born, neither of your parents were British citizens or settled in the UK.', 'If you’re applying from the Channel Islands, the Isle of Man or a British overseas territory  If you live in the Channel Islands, the Isle of Man or a British overseas territory, you have to apply in person or by post instead.', 'Travelling to and from the UK  You can apply for a British passport if your application is successful.', 'Apply for a:   child’s passport if you’re under 16   adult passport if you’re 16 or over  Once you have a British passport you must use it to enter the UK.', 'If you do not want a British passport you can apply for a certificate of entitlement instead.', 'You cannot enter the UK using your certificate of British citizenship.', 'Navigation menu  Services and information   Benefits   Births, death, marriages and care   Business and self-employed   Childcare and parenting   Citizenship and living in the UK   Crime, justice and the law   Disabled people   Driving and transport   Education and learning   Employing people   Environment and countryside   Housing and local services   Money and tax   Passports, travel and living abroad   Visas and immigration   Working, jobs and pensions  Government activity   Departments Departments, agencies and public bodies   News News stories, speeches, letters and notices   Guidance and regulation Detailed guidance, regulations and rules   Research and statistics Reports, analysis and official statistics   Policy papers and consultations Consultations and strategy   Transparency Data, Freedom of Information releases and corporate reports  Search   Home   Citizenship and living in the UK   British citizenship  Apply for citizenship if you were born in the UK  Printable version  1.', 'This includes people who have one of the following:   ‘indefinite leave to remain’   ‘settled status’ (also known as ‘indefinite leave to remain under the EU Settlement Scheme’)   permanent residence status   ‘right of abode’  If you’re not automatically a British citizen, you might be able to register to become one.', 'Services and information   Benefits   Births, death, marriages and care   Business and self-employed   Childcare and parenting   Citizenship and living in the UK   Crime, justice and the law   Disabled people   Driving and transport   Education and learning   Employing people   Environment and countryside   Housing and local services   Money and tax   Passports, travel and living abroad   Visas and immigration   Working, jobs and pensions  Government activity   Departments   News   Guidance and regulation   Research and statistics   Policy papers and consultations   Transparency   How government works   Get involved  Support links   Help   Privacy   Cookies   Accessibility statement   Contact   Terms and conditions   Rhestr o Wasanaethau Cymraeg   Government Digital Service']\n"
     ]
    },
    {
     "name": "stderr",
     "output_type": "stream",
     "text": [
      "\n"
     ]
    }
   ],
   "source": [
    "scraper = Scraper(local_sources)\n",
    "scraper.scrape_local_with_buffer_files()\n",
    "scraped_sentences_data = scraper.scraped_sentence_to_saged_data()\n",
    "scraped_sentences_data.show(data_tier=\"scraped_sentences\")"
   ]
  },
  {
   "cell_type": "markdown",
   "id": "8b43e873",
   "metadata": {},
   "source": [
    "### Summary and Working directions\n",
    "This tutorial showcased the use of the **SAGEDBias** library to define topics, locate relevant sources, and extract content. Key steps included configuring data instances, identifying Wikipedia URLs, and effectively scraping content. Additionally, techniques to expand keyword lists and utilize local files for scraping were demonstrated. This workflow equips you with a robust foundation for leveraging SAGEDBias to collect bias-related sentence data.\n",
    "\n",
    "To create a dataset for training stereotype detection classifiers, consider the following approaches:\n",
    "\n",
    "1. Identify sources, such as **books** and **websites**, that contain stereotypical texts, and scrape content directly from them.\n",
    "2. Use a combination of prompt engineering, fine-tuning, or other advanced techniques to create synthetic models capable of generating stereotypical texts for scraping. For instance, the model [gpt2-EMGSD](https://huggingface.co/holistic-ai/gpt2-EMGSD) on Hugging Face is a GPT-2 model trained on half of the EMGSD dataset, and it can serve as an example.\n",
    "3. Utilize the **Assembler** and **Generator** modules in SAGEDBias to generate stereotypical sentence continuations or question responses using AI models.\n",
    "4. Consider exploring the definition of stereotypes and defending a particular interpretation. For example, refer to [Defining Stereotypes and Stereotyping](https://academic.oup.com/book/39792/chapter-abstract/339890364?redirectedFrom=fulltext&login=false) for a detailed discussion on the topic.\n",
    "\n",
    "If you have questions or require further clarification about these steps, don't hesitate to reach out."
   ]
  },
  {
   "cell_type": "code",
   "execution_count": null,
   "id": "4bc41e30-40e3-4eb0-8625-20748b9db522",
   "metadata": {},
   "outputs": [],
   "source": []
  }
 ],
 "metadata": {
  "kernelspec": {
   "display_name": "Python 3 (ipykernel)",
   "language": "python",
   "name": "python3"
  },
  "language_info": {
   "codemirror_mode": {
    "name": "ipython",
    "version": 3
   },
   "file_extension": ".py",
   "mimetype": "text/x-python",
   "name": "python",
   "nbconvert_exporter": "python",
   "pygments_lexer": "ipython3",
   "version": "3.11.9"
  }
 },
 "nbformat": 4,
 "nbformat_minor": 5
}
